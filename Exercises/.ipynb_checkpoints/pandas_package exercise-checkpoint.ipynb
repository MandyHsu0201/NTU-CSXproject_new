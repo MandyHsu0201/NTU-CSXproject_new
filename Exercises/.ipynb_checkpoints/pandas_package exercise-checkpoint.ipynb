{
 "cells": [
  {
   "cell_type": "markdown",
   "metadata": {},
   "source": [
    "# pandas這個package是用來做資料分析"
   ]
  },
  {
   "cell_type": "code",
   "execution_count": 7,
   "metadata": {},
   "outputs": [
    {
     "name": "stdout",
     "output_type": "stream",
     "text": [
      "   a  b   c\n",
      "1  4  7  10\n",
      "2  5  8  11\n",
      "3  6  9  12\n"
     ]
    }
   ],
   "source": [
    "import pandas as pd\n",
    "#建立一個data.frame,後面的index是為了避免預設由0開始的指標，改為1開始(可以不需要有index那個指令)\n",
    "df=pd.DataFrame({'a':[4,5,6],'b':[7,8,9],'c':[10,11,12]},index=[1,2,3])\n",
    "print(df)"
   ]
  },
  {
   "cell_type": "code",
   "execution_count": null,
   "metadata": {},
   "outputs": [],
   "source": [
    "df=pd.DataFrame({'a':[4,5,6],'b':[7,8,9],'c':[10,11,12]},index=[1,2,3])"
   ]
  },
  {
   "cell_type": "code",
   "execution_count": 1,
   "metadata": {},
   "outputs": [
    {
     "data": {
      "text/html": [
       "<div>\n",
       "<style scoped>\n",
       "    .dataframe tbody tr th:only-of-type {\n",
       "        vertical-align: middle;\n",
       "    }\n",
       "\n",
       "    .dataframe tbody tr th {\n",
       "        vertical-align: top;\n",
       "    }\n",
       "\n",
       "    .dataframe thead th {\n",
       "        text-align: right;\n",
       "    }\n",
       "</style>\n",
       "<table border=\"1\" class=\"dataframe\">\n",
       "  <thead>\n",
       "    <tr style=\"text-align: right;\">\n",
       "      <th></th>\n",
       "      <th>Unicode</th>\n",
       "    </tr>\n",
       "  </thead>\n",
       "  <tbody>\n",
       "    <tr>\n",
       "      <th>0</th>\n",
       "      <td>Unicode（中文：萬國碼、國際碼、統一碼、單一碼）是電</td>\n",
       "    </tr>\n",
       "    <tr>\n",
       "      <th>1</th>\n",
       "      <td>腦科學領域裡的一項業界標準。它?世界上大部分的文字系統</td>\n",
       "    </tr>\n",
       "    <tr>\n",
       "      <th>2</th>\n",
       "      <td>進行了整理、編碼，使得電腦可以用更為簡單的方式來呈現和</td>\n",
       "    </tr>\n",
       "    <tr>\n",
       "      <th>3</th>\n",
       "      <td>處理文字。</td>\n",
       "    </tr>\n",
       "    <tr>\n",
       "      <th>4</th>\n",
       "      <td>Unicode伴隨著通用字符集的標準而發展，同時也以書本</td>\n",
       "    </tr>\n",
       "    <tr>\n",
       "      <th>5</th>\n",
       "      <td>的形式[1]對外發表。Unicode至今仍在不斷增修，每個新版</td>\n",
       "    </tr>\n",
       "    <tr>\n",
       "      <th>6</th>\n",
       "      <td>本都加入更多新的字符。目前最新的版本為2016年6月21日公</td>\n",
       "    </tr>\n",
       "    <tr>\n",
       "      <th>7</th>\n",
       "      <td>布的9.0.0[2]，已經收入超過十萬個字符（第十萬個字符在2005</td>\n",
       "    </tr>\n",
       "    <tr>\n",
       "      <th>8</th>\n",
       "      <td>年獲採納）。Unicode涵蓋的資料除了視覺上的字形、編碼方</td>\n",
       "    </tr>\n",
       "    <tr>\n",
       "      <th>9</th>\n",
       "      <td>法、標準的字符編碼外，還包含了字符特性，如大小寫字母。</td>\n",
       "    </tr>\n",
       "  </tbody>\n",
       "</table>\n",
       "</div>"
      ],
      "text/plain": [
       "                              Unicode\n",
       "0       Unicode（中文：萬國碼、國際碼、統一碼、單一碼）是電\n",
       "1         腦科學領域裡的一項業界標準。它?世界上大部分的文字系統\n",
       "2         進行了整理、編碼，使得電腦可以用更為簡單的方式來呈現和\n",
       "3                               處理文字。\n",
       "4        Unicode伴隨著通用字符集的標準而發展，同時也以書本\n",
       "5     的形式[1]對外發表。Unicode至今仍在不斷增修，每個新版\n",
       "6      本都加入更多新的字符。目前最新的版本為2016年6月21日公\n",
       "7  布的9.0.0[2]，已經收入超過十萬個字符（第十萬個字符在2005\n",
       "8      年獲採納）。Unicode涵蓋的資料除了視覺上的字形、編碼方\n",
       "9         法、標準的字符編碼外，還包含了字符特性，如大小寫字母。"
      ]
     },
     "execution_count": 1,
     "metadata": {},
     "output_type": "execute_result"
    }
   ],
   "source": [
    "import pandas as pd\n",
    "path = r'C:\\Mandy Hsu\\NTU\\big5file.txt'\n",
    "data=pd.read_table(path)\n",
    "data"
   ]
  },
  {
   "cell_type": "code",
   "execution_count": null,
   "metadata": {},
   "outputs": [],
   "source": []
  }
 ],
 "metadata": {
  "kernelspec": {
   "display_name": "Python 3",
   "language": "python",
   "name": "python3"
  },
  "language_info": {
   "codemirror_mode": {
    "name": "ipython",
    "version": 3
   },
   "file_extension": ".py",
   "mimetype": "text/x-python",
   "name": "python",
   "nbconvert_exporter": "python",
   "pygments_lexer": "ipython3",
   "version": "3.6.4"
  }
 },
 "nbformat": 4,
 "nbformat_minor": 2
}
