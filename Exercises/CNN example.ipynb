{
 "cells": [
  {
   "cell_type": "markdown",
   "metadata": {},
   "source": [
    "### CNN的特點:\n",
    "### (1)使用卷積層(convolution):\n",
    "### (2)池化(Pooling):\n",
    "### (3)線性整流(activitate function:ReLU):將負數轉為零\n",
    "### (4)全連結層（fully connected layers）:主要建構單元（primary building block）\n",
    "### (5)反向傳播（backpropagation）"
   ]
  },
  {
   "cell_type": "markdown",
   "metadata": {},
   "source": [
    "### CNN 也能處理其他型態的資料，技巧是將任何資料轉成類似圖片的形式\n",
    "### 例如，將音訊根據時間細分，再將每一小段的聲音分成低音、中音、高音或其他更高的頻率。把這些資訊組成一個二維矩陣，其中各行代表不同時間、各列代表不同頻率。\n",
    "### 也可將自然語言處理（natural language processing）中的文字資料、和新藥研發過程中的化學資料都轉成 CNN 可以處理的形式。"
   ]
  },
  {
   "cell_type": "markdown",
   "metadata": {},
   "source": [
    "### 使用 CNN 的一個訣竅是如果資料不會受改變行列順序所影響，這種資料就不適合使用 CNN 處理。\n",
    "### 例如:每一橫列（row）代表一位顧客、每一直行（column）分別代表這位顧客的姓名、信箱、購買和瀏覽紀錄等不同資訊時，這種顧客資料並非 CNN 可以處理的形式。因為在這個例子裡，行和列的位置並不重要，也就是說在不影響資訊的情況下，它們可以被任意排列。 "
   ]
  },
  {
   "cell_type": "code",
   "execution_count": 8,
   "metadata": {},
   "outputs": [
    {
     "name": "stdout",
     "output_type": "stream",
     "text": [
      "Downloading http://yann.lecun.com/exdb/mnist/train-images-idx3-ubyte.gz\n",
      "Downloading http://yann.lecun.com/exdb/mnist/train-labels-idx1-ubyte.gz\n",
      "Downloading http://yann.lecun.com/exdb/mnist/t10k-images-idx3-ubyte.gz\n",
      "Downloading http://yann.lecun.com/exdb/mnist/t10k-labels-idx1-ubyte.gz\n",
      "Processing...\n",
      "Done!\n",
      "train_dataset train_data : torch.Size([60000, 28, 28])\n",
      "train_dataset train_labels: torch.Size([60000])\n",
      "test_dataset test_data : torch.Size([10000, 28, 28])\n",
      "test_dataset test_labels : torch.Size([10000])\n"
     ]
    }
   ],
   "source": [
    "import torch\n",
    "import torch.nn as nn\n",
    "import torchvision.transforms as transforms\n",
    "import torchvision.datasets as datasets\n",
    "from torch.autograd import Variable\n",
    "import matplotlib.pyplot as plt \n",
    "\n",
    "# Download MNIST from \n",
    "train_dataset = datasets.MNIST(root=\"./data\",\n",
    "\t\t\t\t\t\t\t   train=True,\n",
    "\t\t\t\t\t\t\t   transform=transforms.ToTensor(),\n",
    "\t\t\t\t\t\t\t   download=True)\n",
    "\n",
    "test_dataset = datasets.MNIST(root=\"./data\",\n",
    "\t\t\t\t\t\t\t  train=False,\n",
    "\t\t\t\t\t\t\t  transform=transforms.ToTensor(),\n",
    "\t\t\t\t\t\t\t  download=True)\n",
    "\n",
    "print(\"train_dataset train_data :\", train_dataset.train_data.size())\n",
    "print(\"train_dataset train_labels:\", train_dataset.train_labels.size())\n",
    "print(\"test_dataset test_data :\", test_dataset.test_data.size())\n",
    "print(\"test_dataset test_labels :\", test_dataset.test_labels.size())"
   ]
  },
  {
   "cell_type": "code",
   "execution_count": 9,
   "metadata": {},
   "outputs": [],
   "source": [
    "batch_size = 100\n",
    "n_iters = 3000\n",
    "num_epochs = n_iters / (len(train_dataset) / batch_size)\n",
    "num_epochs = int(num_epochs)\n",
    "\n",
    "train_loader = torch.utils.data.DataLoader(dataset=train_dataset,\n",
    "\t                                       batch_size=batch_size,\n",
    "\t                                       shuffle=True)\n",
    "\n",
    "test_loader = torch.utils.data.DataLoader(dataset=test_dataset,\n",
    "\t                                      batch_size=batch_size,\n",
    "\t                                      shuffle=True)"
   ]
  },
  {
   "cell_type": "code",
   "execution_count": 11,
   "metadata": {},
   "outputs": [],
   "source": []
  },
  {
   "cell_type": "code",
   "execution_count": null,
   "metadata": {},
   "outputs": [],
   "source": []
  }
 ],
 "metadata": {
  "kernelspec": {
   "display_name": "Python 3",
   "language": "python",
   "name": "python3"
  },
  "language_info": {
   "codemirror_mode": {
    "name": "ipython",
    "version": 3
   },
   "file_extension": ".py",
   "mimetype": "text/x-python",
   "name": "python",
   "nbconvert_exporter": "python",
   "pygments_lexer": "ipython3",
   "version": "3.6.4"
  }
 },
 "nbformat": 4,
 "nbformat_minor": 2
}
