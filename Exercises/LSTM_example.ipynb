{
 "cells": [
  {
   "cell_type": "markdown",
   "metadata": {},
   "source": [
    "### RNN可用來做語意分析，但RNN因有梯度消失的問題，所以後來發展了LSTM\n",
    "### RNN與LSTM差別在將原本的RNN隱藏層SimpleRNN layer改成LSTM即可\n",
    "### LSTM應用很廣，其中{情緒分析}(Sentiment Analysis)，看看如何分析影評的正/負意見分類，可用在網路，產品調查等。\n",
    "### 其中一個LSTM應用是銷售量預測"
   ]
  },
  {
   "cell_type": "code",
   "execution_count": null,
   "metadata": {},
   "outputs": [],
   "source": []
  }
 ],
 "metadata": {
  "kernelspec": {
   "display_name": "Python 3",
   "language": "python",
   "name": "python3"
  },
  "language_info": {
   "codemirror_mode": {
    "name": "ipython",
    "version": 3
   },
   "file_extension": ".py",
   "mimetype": "text/x-python",
   "name": "python",
   "nbconvert_exporter": "python",
   "pygments_lexer": "ipython3",
   "version": "3.6.4"
  }
 },
 "nbformat": 4,
 "nbformat_minor": 2
}
