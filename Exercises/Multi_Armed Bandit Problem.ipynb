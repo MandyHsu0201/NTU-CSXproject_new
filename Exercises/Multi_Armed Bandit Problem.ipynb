{
 "cells": [
  {
   "cell_type": "markdown",
   "metadata": {},
   "source": [
    "# The Multi-Armed Bandit Problem and Its Solutions\n",
    "\n",
    "https://lilianweng.github.io/lil-log/2018/01/23/the-multi-armed-bandit-problem-and-its-solutions.html\n",
    "\n",
    "一个朋友的博客，里面比较了多臂赌博机Epsilon Greedy，UCB，Bayesian UCB和Thompson Sampling算法，是我见过写的最好的博客，本文许多图片都由该文章提供的开源代码生成。\n",
    "\n",
    "A Tutorial on Thompson Sampling\n",
    "\n",
    "https://arxiv.org/pdf/1707.02038.pdf\n",
    "\n",
    "这篇文章从Thompson Sampling讲到实战问题，最后讲到局限性，非常推荐。\n",
    "\n",
    "Simple Reinforcement Learning in Tensorflow: Part 1 — Two-armed Bandit\n",
    "\n",
    "https://medium.com/@awjuliani/super-simple-reinforcement-learning-tutorial-part-1-fd544fab149\n",
    "\n",
    "用Tensorflow解决两臂赌博机问题，其中Tensorflow的部分用到了policy gradient算法。"
   ]
  },
  {
   "cell_type": "markdown",
   "metadata": {},
   "source": [
    "### Thompson Sampling:假設action的回報概率服從Beta(alpha,beta)"
   ]
  },
  {
   "cell_type": "code",
   "execution_count": null,
   "metadata": {},
   "outputs": [],
   "source": []
  }
 ],
 "metadata": {
  "kernelspec": {
   "display_name": "Python 3",
   "language": "python",
   "name": "python3"
  },
  "language_info": {
   "codemirror_mode": {
    "name": "ipython",
    "version": 3
   },
   "file_extension": ".py",
   "mimetype": "text/x-python",
   "name": "python",
   "nbconvert_exporter": "python",
   "pygments_lexer": "ipython3",
   "version": "3.6.4"
  }
 },
 "nbformat": 4,
 "nbformat_minor": 2
}
