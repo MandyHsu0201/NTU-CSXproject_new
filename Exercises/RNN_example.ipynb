{
 "cells": [
  {
   "cell_type": "markdown",
   "metadata": {},
   "source": [
    "### RNN是Natural Language Processing(NLP)中常用的Neural Network\n",
    "簡單的RNN模型(Vanilla RNN)額外考慮前文的關係，把簡單迴歸的模型 y=W*x+b\n",
    "改成\n",
    "#### h_t=W*h_(t-1)+Ux_t+b\n",
    "#### y_t=g(V*h_t)\n",
    "#### W，U，V都是權重，對每一個推導點都共用\n",
    "#### 通常activation function是tanh\n",
    "#### 隱藏層使用simpleRNN"
   ]
  },
  {
   "cell_type": "markdown",
   "metadata": {},
   "source": [
    "##### 這裡的RNN都只考慮前一項字詞；有學者提出『雙向』(Bidirectional) RNN\n",
    "##### Keras提供 Bidirectional() 函數\n",
    "##### model.add(Bidirectional(SimpleRNN(10)))\n",
    "##### https://www.slideshare.net/xavigiro/deep-learning-for-computer-vision-recurrent-neural-networks-upc-2016"
   ]
  },
  {
   "cell_type": "markdown",
   "metadata": {},
   "source": [
    "##### RNN的缺點是因函數可展開如下:\n",
    "##### h_t=W*h_(t-1)+Ux_t+b\n",
    "##### =W*[W*h_(t-2)+Ux_(t-1)+b]+Ux_t+b\n",
    "##### =[W^2*h_(t-2)+W*Ux_(t-1)+W*b]+Ux_t+b\n",
    "#####  ...\n",
    "##### h_t=W^t*h_0+...+Ux_t+b\n",
    "##### 由上式可發現h_0對函數的影響是w的t次方，通常，w 會小於 1，因為 w 大於1，\n",
    "##### 則表示距離越遠的字句影響力會遠大於距離近的字句，這不太合理，所以，w 應會小於 1，\n",
    "##### 當 t 很大時，w 的 t 次方會趨近於0，也就是說，段落或句子很長，越前面的字詞會被遺忘，\n",
    "##### 這種現象稱之為『梯度消失』(Vanishing Gradient)，"
   ]
  },
  {
   "cell_type": "markdown",
   "metadata": {},
   "source": [
    "###### 後來Hochreiter & Schmidhuber) 在 1997 年提出『長短期記憶網路』(Long Short Term Memory Network, \n",
    "###### LSTM) ，透過記憶功能來增加『長期依賴』(long-term dependency)的問題。\n",
    "##### 實作上將RNN隱藏層由SimpleRNN layer 改成 LSTM即可\n",
    "##### LSTM應用很廣，其中{情緒分析}(Sentiment Analysis)，看看如何分析影評的正/負意見分類，可用在網路，產品調查等。"
   ]
  },
  {
   "cell_type": "code",
   "execution_count": 1,
   "metadata": {},
   "outputs": [],
   "source": [
    "import torch\n",
    "import torch.nn as nn\n",
    "import torchvision.transforms as transforms\n",
    "import torchvision.datasets as dsets\n",
    "from torch.autograd import Variable\n",
    "import torch.nn.functional as F"
   ]
  },
  {
   "cell_type": "code",
   "execution_count": null,
   "metadata": {},
   "outputs": [],
   "source": []
  },
  {
   "cell_type": "markdown",
   "metadata": {},
   "source": [
    "### 使用 MNIST 資料集 (載入資料)"
   ]
  },
  {
   "cell_type": "code",
   "execution_count": 1,
   "metadata": {},
   "outputs": [
    {
     "ename": "NameError",
     "evalue": "name 'dsets' is not defined",
     "output_type": "error",
     "traceback": [
      "\u001b[1;31m---------------------------------------------------------------------------\u001b[0m",
      "\u001b[1;31mNameError\u001b[0m                                 Traceback (most recent call last)",
      "\u001b[1;32m<ipython-input-1-21cedc2dd657>\u001b[0m in \u001b[0;36m<module>\u001b[1;34m()\u001b[0m\n\u001b[1;32m----> 1\u001b[1;33m train_dataset = dsets.MNIST(\n\u001b[0m\u001b[0;32m      2\u001b[0m     \u001b[0mroot\u001b[0m \u001b[1;33m=\u001b[0m \u001b[1;34m'./MNIST_data'\u001b[0m\u001b[1;33m,\u001b[0m\u001b[1;33m\u001b[0m\u001b[0m\n\u001b[0;32m      3\u001b[0m     \u001b[0mtrain\u001b[0m \u001b[1;33m=\u001b[0m \u001b[1;32mTrue\u001b[0m\u001b[1;33m,\u001b[0m\u001b[1;33m\u001b[0m\u001b[0m\n\u001b[0;32m      4\u001b[0m     \u001b[0mtransform\u001b[0m \u001b[1;33m=\u001b[0m \u001b[0mtransforms\u001b[0m\u001b[1;33m.\u001b[0m\u001b[0mToTensor\u001b[0m\u001b[1;33m(\u001b[0m\u001b[1;33m)\u001b[0m\u001b[1;33m,\u001b[0m\u001b[1;33m\u001b[0m\u001b[0m\n\u001b[0;32m      5\u001b[0m     \u001b[0mdownload\u001b[0m \u001b[1;33m=\u001b[0m \u001b[1;32mTrue\u001b[0m\u001b[1;33m\u001b[0m\u001b[0m\n",
      "\u001b[1;31mNameError\u001b[0m: name 'dsets' is not defined"
     ]
    }
   ],
   "source": [
    "train_dataset = dsets.MNIST(\n",
    "    root = './t10k-labels.idx1-ubyte',\n",
    "    train = True,\n",
    "    transform = transforms.ToTensor(),\n",
    "    download = True\n",
    ")\n",
    "test_dataset = dsets.MNIST(\n",
    "    root = './MNIST_data',\n",
    "    train = False,\n",
    "    transform = transforms.ToTensor()\n",
    ")"
   ]
  },
  {
   "cell_type": "code",
   "execution_count": null,
   "metadata": {},
   "outputs": [],
   "source": []
  },
  {
   "cell_type": "code",
   "execution_count": null,
   "metadata": {},
   "outputs": [],
   "source": [
    "class RNNModel(nn.Module):\n",
    "    def __init__(self, input_dim, output_dim):\n",
    "        super(RNNModel, self).__init__()   \n",
    "        \n",
    "        self.rnn = nn.RNN(\n",
    "            input_size = input_dim,\n",
    "            hidden_size = 100,\n",
    "            num_layers = 1,\n",
    "            batch_first=True,\n",
    "            nonlinearity='relu')\n",
    "        \n",
    "        self.fc = nn.Linear(100, 10)\n",
    "        \n",
    "    def forward(self, x):\n",
    "        # (layer_dim, batch_size, hidden_dim)\n",
    "        h0 = None\n",
    "        # another hidden state example :\n",
    "        # h0 = Variable(torch.zeros(1, x.size(0), 100))\n",
    "        \n",
    "        out, hn = self.rnn(x, h0)\n",
    "        # \"out\" dim : (100, 28, 100)\n",
    "        # \"-1\" means the last time step\n",
    "        \n",
    "        out = self.fc(out[:, -1, :])  # (100, 100)  #這裡的-1可以用別的\n",
    "        # \"out\" dim : (100, 10)\n",
    "        \n",
    "        return out"
   ]
  }
 ],
 "metadata": {
  "kernelspec": {
   "display_name": "Python 3",
   "language": "python",
   "name": "python3"
  },
  "language_info": {
   "codemirror_mode": {
    "name": "ipython",
    "version": 3
   },
   "file_extension": ".py",
   "mimetype": "text/x-python",
   "name": "python",
   "nbconvert_exporter": "python",
   "pygments_lexer": "ipython3",
   "version": "3.6.4"
  }
 },
 "nbformat": 4,
 "nbformat_minor": 2
}
