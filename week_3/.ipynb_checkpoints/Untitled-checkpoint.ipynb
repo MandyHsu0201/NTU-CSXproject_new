{
 "cells": [
  {
   "cell_type": "code",
   "execution_count": 1,
   "metadata": {},
   "outputs": [],
   "source": [
    "#使用facebook圖形API測試工具來找貼文的內容\n",
    "\n",
    "#1.臉書搜尋人名,點開後，其url上會顯示其id\n",
    "#2.將id放入facebook for develops的get中，接著在後面接想看的東西(比如貼文用posts)提交後\n",
    "#3.可得到該人名的貼圖創建日及網頁，隨便點開一個網頁即可檢查出是否正確取得想要的人的臉書資訊"
   ]
  },
  {
   "cell_type": "code",
   "execution_count": null,
   "metadata": {},
   "outputs": [],
   "source": []
  }
 ],
 "metadata": {
  "kernelspec": {
   "display_name": "Python 3",
   "language": "python",
   "name": "python3"
  },
  "language_info": {
   "codemirror_mode": {
    "name": "ipython",
    "version": 3
   },
   "file_extension": ".py",
   "mimetype": "text/x-python",
   "name": "python",
   "nbconvert_exporter": "python",
   "pygments_lexer": "ipython3",
   "version": "3.6.4"
  }
 },
 "nbformat": 4,
 "nbformat_minor": 2
}
