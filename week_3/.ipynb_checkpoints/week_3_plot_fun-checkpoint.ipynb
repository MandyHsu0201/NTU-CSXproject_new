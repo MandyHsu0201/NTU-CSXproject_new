{
 "cells": [
  {
   "cell_type": "markdown",
   "metadata": {},
   "source": [
    "### 使用任意畫圖包畫出 星期幾 v.s 銷售量 的 bar chart。\n",
    "用91app的資料畫出,星期幾的平均銷售量"
   ]
  },
  {
   "cell_type": "code",
   "execution_count": 1,
   "metadata": {},
   "outputs": [],
   "source": [
    "import matplotlib.pyplot as plt  #畫圖package\n",
    "import pandas as pd              #這個package有一些統計運算，資料可存成data.frame\n",
    "import numpy as np\n",
    "plt.style.use('ggplot')\n",
    "%matplotlib inline"
   ]
  },
  {
   "cell_type": "code",
   "execution_count": 2,
   "metadata": {},
   "outputs": [],
   "source": [
    "#使用pandas package 讀取資料，就是已存成data.frame或series的格式了，不須再轉成data.frame\n",
    "df = pd.read_csv(r'C:\\pythonwork\\Ntu_Orders.csv')\n",
    "#df= pd.read_csv(r'C:\\Users\\s\\Desktop\\NTU_CSX\\week_2\\Ntu_Orders.csv')"
   ]
  },
  {
   "cell_type": "code",
   "execution_count": 14,
   "metadata": {},
   "outputs": [
    {
     "name": "stdout",
     "output_type": "stream",
     "text": [
      "            Quantity\n",
      "new_DateId          \n",
      "2017-01-01      3823\n",
      "2017-01-02      5105\n",
      "2017-01-03      3623\n",
      "------------------\n",
      "  new_DateId  Quantity\n",
      "0 2017-01-01      3823\n",
      "1 2017-01-02      5105\n",
      "2 2017-01-03      3623\n",
      "------------------\n",
      "<class 'pandas.core.series.Series'>\n"
     ]
    }
   ],
   "source": [
    "df['new_DateId'] = pd.to_datetime(df['DateId'].astype(str), format='%Y%m%d')\n",
    "#將data存成data.frame，但不同的是new_DateId變成python中的index，就像是R中的factor\n",
    "#所以無法執行type(data['new_DateId'])，而type(data['Quantity'])則可以\n",
    "data = df.groupby(by='new_DateId')['Quantity'].sum().to_frame()\n",
    "print(data.head(3))\n",
    "print('------------------')\n",
    "#所以必須多加一個新的index 指標\n",
    "#讓序號重新編排,確保不會有重複的情形\n",
    "data.reset_index(level=0, inplace=True)\n",
    "print(data.head(3))\n",
    "print('------------------')\n",
    "print(type(data['new_DateId']))"
   ]
  },
  {
   "cell_type": "markdown",
   "metadata": {},
   "source": [
    "#### 判斷每筆資料日期是星期幾，在計算星期一到日每天的平均銷售量\n",
    "#### 使用datetime package\n"
   ]
  },
  {
   "cell_type": "code",
   "execution_count": 16,
   "metadata": {},
   "outputs": [
    {
     "name": "stdout",
     "output_type": "stream",
     "text": [
      "  new_DateId  Quantity  week\n",
      "0 2017-01-01      3823     6\n",
      "1 2017-01-02      5105     0\n"
     ]
    }
   ],
   "source": [
    "import datetime  #與時間有關的package，R裡面是用lubridate這個package\n",
    "#新增一個變數week到data這個data.frame裡面，就像R裡面的寫法如下，需額外引入dplyr package\n",
    "# data=mutate(data,week=as.POSIXlt(new_DateId)$wdays)\n",
    "# 1-6,0表示星期日\n",
    "data['week'] = data['new_DateId'].apply(lambda x: x.weekday())\n",
    "print(data.head(2))\n",
    "#data1= data.groupby(by='week')['Quantity'].mean().to_frame()"
   ]
  },
  {
   "cell_type": "code",
   "execution_count": null,
   "metadata": {},
   "outputs": [],
   "source": []
  }
 ],
 "metadata": {
  "kernelspec": {
   "display_name": "Python 3",
   "language": "python",
   "name": "python3"
  },
  "language_info": {
   "codemirror_mode": {
    "name": "ipython",
    "version": 3
   },
   "file_extension": ".py",
   "mimetype": "text/x-python",
   "name": "python",
   "nbconvert_exporter": "python",
   "pygments_lexer": "ipython3",
   "version": "3.6.4"
  }
 },
 "nbformat": 4,
 "nbformat_minor": 2
}
