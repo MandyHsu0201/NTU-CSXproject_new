{
 "cells": [
  {
   "cell_type": "markdown",
   "metadata": {},
   "source": [
    "#### 使用任意畫圖包畫出 星期幾 v.s 銷售量 的 bar chart。\n",
    "用91app的資料畫出,星期幾的平均銷售量"
   ]
  },
  {
   "cell_type": "code",
   "execution_count": 49,
   "metadata": {},
   "outputs": [],
   "source": [
    "import matplotlib.pyplot as plt  #畫圖package\n",
    "import pandas as pd #這個package有一些統計運算，資料可存成data.frame        \n",
    "import numpy as np\n",
    "plt.style.use('ggplot')\n",
    "%matplotlib inline"
   ]
  },
  {
   "cell_type": "code",
   "execution_count": 50,
   "metadata": {},
   "outputs": [],
   "source": [
    "#使用pandas package 讀取資料，就是已存成data.frame或series的格式了，不須再轉成data.frame\n",
    "data_1= pd.read_csv(r'C:\\pythonwork\\Ntu_Orders.csv')\n",
    "#data_1= pd.read_csv(r'C:\\Users\\s\\Desktop\\NTU_CSX\\week_2\\Ntu_Orders.csv')"
   ]
  },
  {
   "cell_type": "code",
   "execution_count": 51,
   "metadata": {},
   "outputs": [
    {
     "data": {
      "text/html": [
       "<div>\n",
       "<style scoped>\n",
       "    .dataframe tbody tr th:only-of-type {\n",
       "        vertical-align: middle;\n",
       "    }\n",
       "\n",
       "    .dataframe tbody tr th {\n",
       "        vertical-align: top;\n",
       "    }\n",
       "\n",
       "    .dataframe thead th {\n",
       "        text-align: right;\n",
       "    }\n",
       "</style>\n",
       "<table border=\"1\" class=\"dataframe\">\n",
       "  <thead>\n",
       "    <tr style=\"text-align: right;\">\n",
       "      <th></th>\n",
       "      <th>SalesOrderSlaveId</th>\n",
       "      <th>DateId</th>\n",
       "      <th>MemberId</th>\n",
       "      <th>TradesOrderSlaveId</th>\n",
       "      <th>ShopId</th>\n",
       "      <th>SalePageId</th>\n",
       "      <th>TradesOrderGroupCode</th>\n",
       "      <th>TrackSourceTypeDef</th>\n",
       "      <th>TrackChannelTypeDef</th>\n",
       "      <th>TrackDeviceTypeDef</th>\n",
       "      <th>...</th>\n",
       "      <th>UnitPrice</th>\n",
       "      <th>PromotionDiscount</th>\n",
       "      <th>EcouponDiscount</th>\n",
       "      <th>SalesOrderSlaveTotalPayment</th>\n",
       "      <th>SalesOrderSlaveDateTime</th>\n",
       "      <th>SalesOrderSlaveStatusDef</th>\n",
       "      <th>PayProfileTypeDef</th>\n",
       "      <th>ShippingProfileTypeDef</th>\n",
       "      <th>EcouponId</th>\n",
       "      <th>IsSalePageGift</th>\n",
       "    </tr>\n",
       "  </thead>\n",
       "  <tbody>\n",
       "    <tr>\n",
       "      <th>0</th>\n",
       "      <td>26914456</td>\n",
       "      <td>20170103</td>\n",
       "      <td>48D5DE26-236E-4854-8474-B0DCEAFF4F42</td>\n",
       "      <td>26971960</td>\n",
       "      <td>1317</td>\n",
       "      <td>9804</td>\n",
       "      <td>b'q\\x14\\xa49\\xaa\\\\\\xecs\\xff6wH\\xfbXd\\x93\\xfbf\\...</td>\n",
       "      <td>Web</td>\n",
       "      <td>Brand</td>\n",
       "      <td>Mobile</td>\n",
       "      <td>...</td>\n",
       "      <td>399.0</td>\n",
       "      <td>-25.0</td>\n",
       "      <td>0.0</td>\n",
       "      <td>374.0</td>\n",
       "      <td>2017-01-03 23:11:47.207</td>\n",
       "      <td>Finish</td>\n",
       "      <td>SevenEleven</td>\n",
       "      <td>SevenEleven</td>\n",
       "      <td>NaN</td>\n",
       "      <td>False</td>\n",
       "    </tr>\n",
       "    <tr>\n",
       "      <th>1</th>\n",
       "      <td>26914457</td>\n",
       "      <td>20170103</td>\n",
       "      <td>48D5DE26-236E-4854-8474-B0DCEAFF4F42</td>\n",
       "      <td>26971961</td>\n",
       "      <td>1317</td>\n",
       "      <td>9804</td>\n",
       "      <td>b'q\\x14\\xa49\\xaa\\\\\\xecs\\xff6wH\\xfbXd\\x93\\xfbf\\...</td>\n",
       "      <td>Web</td>\n",
       "      <td>Brand</td>\n",
       "      <td>Mobile</td>\n",
       "      <td>...</td>\n",
       "      <td>399.0</td>\n",
       "      <td>-25.0</td>\n",
       "      <td>0.0</td>\n",
       "      <td>374.0</td>\n",
       "      <td>2017-01-03 23:11:47.223</td>\n",
       "      <td>Finish</td>\n",
       "      <td>SevenEleven</td>\n",
       "      <td>SevenEleven</td>\n",
       "      <td>NaN</td>\n",
       "      <td>False</td>\n",
       "    </tr>\n",
       "  </tbody>\n",
       "</table>\n",
       "<p>2 rows × 27 columns</p>\n",
       "</div>"
      ],
      "text/plain": [
       "   SalesOrderSlaveId    DateId                              MemberId  \\\n",
       "0           26914456  20170103  48D5DE26-236E-4854-8474-B0DCEAFF4F42   \n",
       "1           26914457  20170103  48D5DE26-236E-4854-8474-B0DCEAFF4F42   \n",
       "\n",
       "   TradesOrderSlaveId  ShopId  SalePageId  \\\n",
       "0            26971960    1317        9804   \n",
       "1            26971961    1317        9804   \n",
       "\n",
       "                                TradesOrderGroupCode TrackSourceTypeDef  \\\n",
       "0  b'q\\x14\\xa49\\xaa\\\\\\xecs\\xff6wH\\xfbXd\\x93\\xfbf\\...                Web   \n",
       "1  b'q\\x14\\xa49\\xaa\\\\\\xecs\\xff6wH\\xfbXd\\x93\\xfbf\\...                Web   \n",
       "\n",
       "  TrackChannelTypeDef TrackDeviceTypeDef       ...       UnitPrice  \\\n",
       "0               Brand             Mobile       ...           399.0   \n",
       "1               Brand             Mobile       ...           399.0   \n",
       "\n",
       "  PromotionDiscount EcouponDiscount SalesOrderSlaveTotalPayment  \\\n",
       "0             -25.0             0.0                       374.0   \n",
       "1             -25.0             0.0                       374.0   \n",
       "\n",
       "   SalesOrderSlaveDateTime  SalesOrderSlaveStatusDef  PayProfileTypeDef  \\\n",
       "0  2017-01-03 23:11:47.207                    Finish        SevenEleven   \n",
       "1  2017-01-03 23:11:47.223                    Finish        SevenEleven   \n",
       "\n",
       "   ShippingProfileTypeDef  EcouponId  IsSalePageGift  \n",
       "0             SevenEleven        NaN           False  \n",
       "1             SevenEleven        NaN           False  \n",
       "\n",
       "[2 rows x 27 columns]"
      ]
     },
     "execution_count": 51,
     "metadata": {},
     "output_type": "execute_result"
    }
   ],
   "source": [
    "data_1.head(2)"
   ]
  },
  {
   "cell_type": "code",
   "execution_count": 52,
   "metadata": {},
   "outputs": [
    {
     "data": {
      "text/plain": [
       "(2268348, 27)"
      ]
     },
     "execution_count": 52,
     "metadata": {},
     "output_type": "execute_result"
    }
   ],
   "source": [
    "data_1.shape #資料維度"
   ]
  },
  {
   "cell_type": "code",
   "execution_count": 53,
   "metadata": {},
   "outputs": [
    {
     "data": {
      "text/plain": [
       "Index(['SalesOrderSlaveId', 'DateId', 'MemberId', 'TradesOrderSlaveId',\n",
       "       'ShopId', 'SalePageId', 'TradesOrderGroupCode', 'TrackSourceTypeDef',\n",
       "       'TrackChannelTypeDef', 'TrackDeviceTypeDef', 'LevelOneCategoryName',\n",
       "       'LevelTwoCategoryName', 'LevelThreeCategoryName',\n",
       "       'LevelFourCategoryName', 'IsMajor', 'IsGift', 'Quantity', 'UnitPrice',\n",
       "       'PromotionDiscount', 'EcouponDiscount', 'SalesOrderSlaveTotalPayment',\n",
       "       'SalesOrderSlaveDateTime', 'SalesOrderSlaveStatusDef',\n",
       "       'PayProfileTypeDef', 'ShippingProfileTypeDef', 'EcouponId',\n",
       "       'IsSalePageGift'],\n",
       "      dtype='object')"
      ]
     },
     "execution_count": 53,
     "metadata": {},
     "output_type": "execute_result"
    }
   ],
   "source": [
    "data_1.columns #資料的變數名稱，也就是R的names(data_1)"
   ]
  },
  {
   "cell_type": "code",
   "execution_count": 54,
   "metadata": {},
   "outputs": [
    {
     "name": "stdout",
     "output_type": "stream",
     "text": [
      "summary        SalesOrderSlaveId        DateId  TradesOrderSlaveId     ShopId  \\\n",
      "count       2.268348e+06  2.268348e+06        2.268348e+06  2268348.0   \n",
      "mean        3.946506e+07  2.017089e+07        3.952598e+07     1317.0   \n",
      "std         6.725958e+06  1.345334e+03        6.727781e+06        0.0   \n",
      "min         2.673929e+07  2.017010e+07        2.679677e+07     1317.0   \n",
      "25%         3.373436e+07  2.017042e+07        3.379364e+07     1317.0   \n",
      "50%         3.879489e+07  2.017071e+07        3.885623e+07     1317.0   \n",
      "75%         4.565095e+07  2.017102e+07        4.571314e+07     1317.0   \n",
      "max         5.133914e+07  2.018011e+07        5.140290e+07     1317.0   \n",
      "\n",
      "         SalePageId      Quantity     UnitPrice  PromotionDiscount  \\\n",
      "count  2.268348e+06  2.268348e+06  2.268348e+06       2.268348e+06   \n",
      "mean   1.113387e+04  1.020585e+00  2.606204e+02      -2.512722e+01   \n",
      "std    3.224151e+03  1.943919e-01  1.355568e+02       4.072458e+01   \n",
      "min    2.000000e+00  1.000000e+00  0.000000e+00      -2.079000e+03   \n",
      "25%    9.448000e+03  1.000000e+00  1.990000e+02      -3.000000e+01   \n",
      "50%    1.140800e+04  1.000000e+00  1.990000e+02      -1.300000e+01   \n",
      "75%    1.345300e+04  1.000000e+00  3.200000e+02       0.000000e+00   \n",
      "max    1.649400e+04  1.000000e+01  3.500000e+03       0.000000e+00   \n",
      "\n",
      "       EcouponDiscount  SalesOrderSlaveTotalPayment      EcouponId  \n",
      "count     2.268348e+06                 2.268348e+06  472354.000000  \n",
      "mean     -4.397501e+00                 2.357602e+02     185.219592  \n",
      "std       1.166487e+01                 1.352604e+02      38.789849  \n",
      "min      -2.070000e+02                 0.000000e+00     127.000000  \n",
      "25%       0.000000e+00                 1.740000e+02     147.000000  \n",
      "50%       0.000000e+00                 1.990000e+02     190.000000  \n",
      "75%       0.000000e+00                 2.990000e+02     221.000000  \n",
      "max       0.000000e+00                 1.432100e+04     249.000000  \n"
     ]
    }
   ],
   "source": [
    "summary = data_1.describe() #類似R中的summary\n",
    "print('summary',summary)"
   ]
  },
  {
   "cell_type": "code",
   "execution_count": 57,
   "metadata": {},
   "outputs": [
    {
     "data": {
      "text/plain": [
       "pandas.core.frame.DataFrame"
      ]
     },
     "execution_count": 57,
     "metadata": {},
     "output_type": "execute_result"
    }
   ],
   "source": [
    "type(data_1) #資料儲存的格式"
   ]
  },
  {
   "cell_type": "code",
   "execution_count": 58,
   "metadata": {},
   "outputs": [
    {
     "name": "stdout",
     "output_type": "stream",
     "text": [
      "one or two or others dimensions: 2\n",
      "-----------------------------------------\n",
      "the dimension of the data: (2268348, 28)\n",
      "-----------------------------------------\n"
     ]
    }
   ],
   "source": [
    "print('one or two or others dimensions:',data_1_df.ndim)\n",
    "print('-----------------------------------------')\n",
    "print('the dimension of the data:',data_1_df.shape)\n",
    "print('-----------------------------------------')\n",
    "#print('variable type:',data_1_df.dtypes)"
   ]
  },
  {
   "cell_type": "code",
   "execution_count": 59,
   "metadata": {},
   "outputs": [
    {
     "data": {
      "text/plain": [
       "0    20170103\n",
       "1    20170103\n",
       "2    20170101\n",
       "3    20170101\n",
       "4    20170102\n",
       "Name: DateId, dtype: int64"
      ]
     },
     "execution_count": 59,
     "metadata": {},
     "output_type": "execute_result"
    }
   ],
   "source": [
    "data_1['DateId'].head(5)"
   ]
  },
  {
   "cell_type": "code",
   "execution_count": 60,
   "metadata": {},
   "outputs": [
    {
     "name": "stdout",
     "output_type": "stream",
     "text": [
      "DateId\n",
      "20170101    3823\n",
      "20170102    5105\n",
      "Name: Quantity, dtype: int64\n",
      "int64\n"
     ]
    }
   ],
   "source": [
    "data_1_dayQuantity=data_1_df.groupby(by='DateId')['Quantity'].sum() #算出每天的quantity\n",
    "print(data_1_dayQuantity.head(2))\n",
    "print(data_1_dayQuantity.dtype)"
   ]
  },
  {
   "cell_type": "code",
   "execution_count": 64,
   "metadata": {},
   "outputs": [
    {
     "name": "stdout",
     "output_type": "stream",
     "text": [
      "The names of original data:\n",
      "Index(['SalesOrderSlaveId', 'DateId', 'MemberId', 'TradesOrderSlaveId',\n",
      "       'ShopId', 'SalePageId', 'TradesOrderGroupCode', 'TrackSourceTypeDef',\n",
      "       'TrackChannelTypeDef', 'TrackDeviceTypeDef', 'LevelOneCategoryName',\n",
      "       'LevelTwoCategoryName', 'LevelThreeCategoryName',\n",
      "       'LevelFourCategoryName', 'IsMajor', 'IsGift', 'Quantity', 'UnitPrice',\n",
      "       'PromotionDiscount', 'EcouponDiscount', 'SalesOrderSlaveTotalPayment',\n",
      "       'SalesOrderSlaveDateTime', 'SalesOrderSlaveStatusDef',\n",
      "       'PayProfileTypeDef', 'ShippingProfileTypeDef', 'EcouponId',\n",
      "       'IsSalePageGift', 'new_DateId'],\n",
      "      dtype='object')\n",
      "--------------------------------------------------------\n",
      "The names of new data(add a new variable): Index(['SalesOrderSlaveId', 'DateId', 'MemberId', 'TradesOrderSlaveId',\n",
      "       'ShopId', 'SalePageId', 'TradesOrderGroupCode', 'TrackSourceTypeDef',\n",
      "       'TrackChannelTypeDef', 'TrackDeviceTypeDef', 'LevelOneCategoryName',\n",
      "       'LevelTwoCategoryName', 'LevelThreeCategoryName',\n",
      "       'LevelFourCategoryName', 'IsMajor', 'IsGift', 'Quantity', 'UnitPrice',\n",
      "       'PromotionDiscount', 'EcouponDiscount', 'SalesOrderSlaveTotalPayment',\n",
      "       'SalesOrderSlaveDateTime', 'SalesOrderSlaveStatusDef',\n",
      "       'PayProfileTypeDef', 'ShippingProfileTypeDef', 'EcouponId',\n",
      "       'IsSalePageGift', 'new_DateId'],\n",
      "      dtype='object')\n"
     ]
    }
   ],
   "source": [
    "print('The names of original data:')\n",
    "print(data_1.columns)\n",
    "data_1['new_DateId'] = pd.to_datetime(data_1['DateId'].astype(str), format='%Y%m%d')\n",
    "print('--------------------------------------------------------')\n",
    "print('The names of new data(add a new variable):')\n",
    "print(data_1.columns)\n",
    "\n",
    "#data_new = data_1.groupby(by='new_DateId')['Quantity'].sum().to_frame()\n",
    "#讓序號重新編排,確保不會有重複的情形\n",
    "#data_1.reset_index(level=0, inplace=True)\n",
    "#data_new.head(3)"
   ]
  },
  {
   "cell_type": "code",
   "execution_count": 27,
   "metadata": {
    "scrolled": true
   },
   "outputs": [
    {
     "name": "stdout",
     "output_type": "stream",
     "text": [
      "            Quantity\n",
      "new_DateId          \n",
      "2017-01-01      3823\n",
      "2017-01-02      5105\n",
      "2017-01-03      3623\n"
     ]
    }
   ],
   "source": [
    "#pandas package內有個指令可以將時間欄位字串轉成時間格式，也有可以計算時間差的指令\n",
    "data_1_df['new_DateId'] = pd.to_datetime(data_1_df['DateId'].astype(str), format='%Y%m%d')\n",
    "data_new=data_1_df.groupby(by='new_DateId')['Quantity'].sum().to_frame() #算出每天的quantity，再轉成data.frame\n",
    "#表格最前方新增一個順序的欄位\n",
    "data_new.reset_index(level=0,drop=False) #drop=True會將日期變數刪除,加入inplace後會無法執行(why?)\n",
    "print(data_new.head(3))"
   ]
  },
  {
   "cell_type": "code",
   "execution_count": 28,
   "metadata": {},
   "outputs": [
    {
     "name": "stdout",
     "output_type": "stream",
     "text": [
      "new_DateId\n",
      "2017-01-01    3823\n",
      "2017-01-02    5105\n",
      "2017-01-03    3623\n",
      "2017-01-04    2889\n",
      "2017-01-05    2843\n",
      "Name: Quantity, dtype: int64\n",
      "--------------\n"
     ]
    }
   ],
   "source": [
    "print(data_new['Quantity'].head(5))\n",
    "print('--------------')\n",
    "#因為new_DateId是key，也就是類似R的factor，所以無法檢測它的資料型態，但可以做類似R的data.frame\n",
    "#print(type(data_new['new_DateId'])) \n"
   ]
  },
  {
   "cell_type": "code",
   "execution_count": 31,
   "metadata": {},
   "outputs": [
    {
     "name": "stdout",
     "output_type": "stream",
     "text": [
      "<class 'pandas.core.series.Series'>\n",
      "<class 'pandas.core.frame.DataFrame'>\n"
     ]
    }
   ],
   "source": [
    "#print(data_new['new_dateId'].head(5))\n",
    "#data_new['new_DateId'] 此行無法執行，因為此變數\n",
    "print(type(data_new['Quantity']))\n",
    "print(type(data_new))"
   ]
  },
  {
   "cell_type": "code",
   "execution_count": null,
   "metadata": {},
   "outputs": [],
   "source": [
    "import matplotlib.pyplot as plt\n",
    "#plt.style.use('ggplot')\n",
    "fig, ax = plt.subplots()\n",
    "#說明 : 下方 fig, ax = plt.subplots() 就是一次造出 (1) figure 和 (2) axe，然後透過 plot() 畫在 axe 上，\n",
    "#最後因為一開始有加這行程式碼 %matplotlib inline 所以顯示部份 (5) 都會默認被顯示出來！\n",
    "ax.plot(data_new['new_DateId'], data_new['Quantity'])\n"
   ]
  },
  {
   "cell_type": "code",
   "execution_count": null,
   "metadata": {},
   "outputs": [],
   "source": []
  },
  {
   "cell_type": "code",
   "execution_count": null,
   "metadata": {},
   "outputs": [],
   "source": [
    "\n",
    "import datetime\n",
    "data_new['weekday'] = data_new['new_DateId'].apply(lambda x: x.weekday())\n",
    "data_new.head()"
   ]
  },
  {
   "cell_type": "code",
   "execution_count": null,
   "metadata": {},
   "outputs": [],
   "source": []
  }
 ],
 "metadata": {
  "kernelspec": {
   "display_name": "Python 3",
   "language": "python",
   "name": "python3"
  },
  "language_info": {
   "codemirror_mode": {
    "name": "ipython",
    "version": 3
   },
   "file_extension": ".py",
   "mimetype": "text/x-python",
   "name": "python",
   "nbconvert_exporter": "python",
   "pygments_lexer": "ipython3",
   "version": "3.6.4"
  }
 },
 "nbformat": 4,
 "nbformat_minor": 2
}
