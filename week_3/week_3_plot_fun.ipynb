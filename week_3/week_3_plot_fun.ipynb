{
 "cells": [
  {
   "cell_type": "markdown",
   "metadata": {},
   "source": [
    "### 使用任意畫圖包畫出 星期幾 v.s 銷售量 的 bar chart。\n",
    "用91app的資料畫出,星期幾的平均銷售量"
   ]
  },
  {
   "cell_type": "markdown",
   "metadata": {},
   "source": [
    "##### R 語言使用者的資料視覺化工具有靜態的 Base plotting system（R 語言內建的繪圖功能）跟 ggplot2 套件，\n",
    "     與動態的 plotly 套件。\n",
    "##### 而 Python 的視覺化套件有靜態的 matplotlib 跟 seaborn 套件，與動態的 bokeh 套件。"
   ]
  },
  {
   "cell_type": "code",
   "execution_count": 1,
   "metadata": {},
   "outputs": [],
   "source": [
    "import matplotlib.pyplot as plt  #畫圖package\n",
    "import pandas as pd              #這個package有一些統計運算，資料可存成data.frame\n",
    "import numpy as np\n",
    "plt.style.use('ggplot')\n",
    "%matplotlib inline"
   ]
  },
  {
   "cell_type": "code",
   "execution_count": 2,
   "metadata": {},
   "outputs": [],
   "source": [
    "#使用pandas package 讀取資料，就是已存成data.frame或series的格式了，不須再轉成data.frame\n",
    "df = pd.read_csv(r'C:\\pythonwork\\Ntu_Orders.csv')\n",
    "#df= pd.read_csv(r'C:\\Users\\s\\Desktop\\NTU_CSX\\week_2\\Ntu_Orders.csv')"
   ]
  },
  {
   "cell_type": "code",
   "execution_count": 26,
   "metadata": {},
   "outputs": [
    {
     "data": {
      "text/html": [
       "<div>\n",
       "<style scoped>\n",
       "    .dataframe tbody tr th:only-of-type {\n",
       "        vertical-align: middle;\n",
       "    }\n",
       "\n",
       "    .dataframe tbody tr th {\n",
       "        vertical-align: top;\n",
       "    }\n",
       "\n",
       "    .dataframe thead th {\n",
       "        text-align: right;\n",
       "    }\n",
       "</style>\n",
       "<table border=\"1\" class=\"dataframe\">\n",
       "  <thead>\n",
       "    <tr style=\"text-align: right;\">\n",
       "      <th></th>\n",
       "      <th>SalesOrderSlaveId</th>\n",
       "      <th>DateId</th>\n",
       "      <th>MemberId</th>\n",
       "      <th>TradesOrderSlaveId</th>\n",
       "      <th>ShopId</th>\n",
       "      <th>SalePageId</th>\n",
       "      <th>TradesOrderGroupCode</th>\n",
       "      <th>TrackSourceTypeDef</th>\n",
       "      <th>TrackChannelTypeDef</th>\n",
       "      <th>TrackDeviceTypeDef</th>\n",
       "      <th>...</th>\n",
       "      <th>PromotionDiscount</th>\n",
       "      <th>EcouponDiscount</th>\n",
       "      <th>SalesOrderSlaveTotalPayment</th>\n",
       "      <th>SalesOrderSlaveDateTime</th>\n",
       "      <th>SalesOrderSlaveStatusDef</th>\n",
       "      <th>PayProfileTypeDef</th>\n",
       "      <th>ShippingProfileTypeDef</th>\n",
       "      <th>EcouponId</th>\n",
       "      <th>IsSalePageGift</th>\n",
       "      <th>new_DateId</th>\n",
       "    </tr>\n",
       "  </thead>\n",
       "  <tbody>\n",
       "    <tr>\n",
       "      <th>0</th>\n",
       "      <td>26914456</td>\n",
       "      <td>20170103</td>\n",
       "      <td>48D5DE26-236E-4854-8474-B0DCEAFF4F42</td>\n",
       "      <td>26971960</td>\n",
       "      <td>1317</td>\n",
       "      <td>9804</td>\n",
       "      <td>b'q\\x14\\xa49\\xaa\\\\\\xecs\\xff6wH\\xfbXd\\x93\\xfbf\\...</td>\n",
       "      <td>Web</td>\n",
       "      <td>Brand</td>\n",
       "      <td>Mobile</td>\n",
       "      <td>...</td>\n",
       "      <td>-25.0</td>\n",
       "      <td>0.0</td>\n",
       "      <td>374.0</td>\n",
       "      <td>2017-01-03 23:11:47.207</td>\n",
       "      <td>Finish</td>\n",
       "      <td>SevenEleven</td>\n",
       "      <td>SevenEleven</td>\n",
       "      <td>NaN</td>\n",
       "      <td>False</td>\n",
       "      <td>2017-01-03</td>\n",
       "    </tr>\n",
       "    <tr>\n",
       "      <th>1</th>\n",
       "      <td>26914457</td>\n",
       "      <td>20170103</td>\n",
       "      <td>48D5DE26-236E-4854-8474-B0DCEAFF4F42</td>\n",
       "      <td>26971961</td>\n",
       "      <td>1317</td>\n",
       "      <td>9804</td>\n",
       "      <td>b'q\\x14\\xa49\\xaa\\\\\\xecs\\xff6wH\\xfbXd\\x93\\xfbf\\...</td>\n",
       "      <td>Web</td>\n",
       "      <td>Brand</td>\n",
       "      <td>Mobile</td>\n",
       "      <td>...</td>\n",
       "      <td>-25.0</td>\n",
       "      <td>0.0</td>\n",
       "      <td>374.0</td>\n",
       "      <td>2017-01-03 23:11:47.223</td>\n",
       "      <td>Finish</td>\n",
       "      <td>SevenEleven</td>\n",
       "      <td>SevenEleven</td>\n",
       "      <td>NaN</td>\n",
       "      <td>False</td>\n",
       "      <td>2017-01-03</td>\n",
       "    </tr>\n",
       "  </tbody>\n",
       "</table>\n",
       "<p>2 rows × 28 columns</p>\n",
       "</div>"
      ],
      "text/plain": [
       "   SalesOrderSlaveId    DateId                              MemberId  \\\n",
       "0           26914456  20170103  48D5DE26-236E-4854-8474-B0DCEAFF4F42   \n",
       "1           26914457  20170103  48D5DE26-236E-4854-8474-B0DCEAFF4F42   \n",
       "\n",
       "   TradesOrderSlaveId  ShopId  SalePageId  \\\n",
       "0            26971960    1317        9804   \n",
       "1            26971961    1317        9804   \n",
       "\n",
       "                                TradesOrderGroupCode TrackSourceTypeDef  \\\n",
       "0  b'q\\x14\\xa49\\xaa\\\\\\xecs\\xff6wH\\xfbXd\\x93\\xfbf\\...                Web   \n",
       "1  b'q\\x14\\xa49\\xaa\\\\\\xecs\\xff6wH\\xfbXd\\x93\\xfbf\\...                Web   \n",
       "\n",
       "  TrackChannelTypeDef TrackDeviceTypeDef     ...     PromotionDiscount  \\\n",
       "0               Brand             Mobile     ...                 -25.0   \n",
       "1               Brand             Mobile     ...                 -25.0   \n",
       "\n",
       "  EcouponDiscount SalesOrderSlaveTotalPayment  SalesOrderSlaveDateTime  \\\n",
       "0             0.0                       374.0  2017-01-03 23:11:47.207   \n",
       "1             0.0                       374.0  2017-01-03 23:11:47.223   \n",
       "\n",
       "   SalesOrderSlaveStatusDef  PayProfileTypeDef  ShippingProfileTypeDef  \\\n",
       "0                    Finish        SevenEleven             SevenEleven   \n",
       "1                    Finish        SevenEleven             SevenEleven   \n",
       "\n",
       "   EcouponId  IsSalePageGift  new_DateId  \n",
       "0        NaN           False  2017-01-03  \n",
       "1        NaN           False  2017-01-03  \n",
       "\n",
       "[2 rows x 28 columns]"
      ]
     },
     "execution_count": 26,
     "metadata": {},
     "output_type": "execute_result"
    }
   ],
   "source": [
    "df.head(2)"
   ]
  },
  {
   "cell_type": "code",
   "execution_count": 36,
   "metadata": {},
   "outputs": [
    {
     "name": "stdout",
     "output_type": "stream",
     "text": [
      "The names of original data:\n",
      "Index(['SalesOrderSlaveId', 'DateId', 'MemberId', 'TradesOrderSlaveId',\n",
      "       'ShopId', 'SalePageId', 'TradesOrderGroupCode', 'TrackSourceTypeDef',\n",
      "       'TrackChannelTypeDef', 'TrackDeviceTypeDef', 'LevelOneCategoryName',\n",
      "       'LevelTwoCategoryName', 'LevelThreeCategoryName',\n",
      "       'LevelFourCategoryName', 'IsMajor', 'IsGift', 'Quantity', 'UnitPrice',\n",
      "       'PromotionDiscount', 'EcouponDiscount', 'SalesOrderSlaveTotalPayment',\n",
      "       'SalesOrderSlaveDateTime', 'SalesOrderSlaveStatusDef',\n",
      "       'PayProfileTypeDef', 'ShippingProfileTypeDef', 'EcouponId',\n",
      "       'IsSalePageGift', 'new_DateId'],\n",
      "      dtype='object')\n"
     ]
    }
   ],
   "source": [
    "print('The names of original data:')\n",
    "print(df.columns)"
   ]
  },
  {
   "cell_type": "code",
   "execution_count": 39,
   "metadata": {},
   "outputs": [
    {
     "name": "stdout",
     "output_type": "stream",
     "text": [
      "The names of new data(add a new variable):\n",
      "Index(['SalesOrderSlaveId', 'DateId', 'MemberId', 'TradesOrderSlaveId',\n",
      "       'ShopId', 'SalePageId', 'TradesOrderGroupCode', 'TrackSourceTypeDef',\n",
      "       'TrackChannelTypeDef', 'TrackDeviceTypeDef', 'LevelOneCategoryName',\n",
      "       'LevelTwoCategoryName', 'LevelThreeCategoryName',\n",
      "       'LevelFourCategoryName', 'IsMajor', 'IsGift', 'Quantity', 'UnitPrice',\n",
      "       'PromotionDiscount', 'EcouponDiscount', 'SalesOrderSlaveTotalPayment',\n",
      "       'SalesOrderSlaveDateTime', 'SalesOrderSlaveStatusDef',\n",
      "       'PayProfileTypeDef', 'ShippingProfileTypeDef', 'EcouponId',\n",
      "       'IsSalePageGift', 'new_DateId'],\n",
      "      dtype='object')\n"
     ]
    }
   ],
   "source": [
    "#pandas package內有個指令可以將時間欄位字串轉成時間格式，也有可以計算時間差的指令\n",
    "df['new_DateId'] = pd.to_datetime(df['DateId'].astype(str), format='%Y%m%d')\n",
    "#將data存成data.frame，但不同的是new_DateId變成python中的index，就像是R中的factor\n",
    "#所以無法執行type(data['new_DateId'])，而type(data['Quantity'])則可以\n",
    "print('The names of new data(add a new variable):')\n",
    "print(df.columns)"
   ]
  },
  {
   "cell_type": "code",
   "execution_count": 38,
   "metadata": {},
   "outputs": [
    {
     "name": "stdout",
     "output_type": "stream",
     "text": [
      "            Quantity\n",
      "new_DateId          \n",
      "2017-01-01      3823\n",
      "2017-01-02      5105\n",
      "2017-01-03      3623\n",
      "------------------\n",
      "  new_DateId  Quantity\n",
      "0 2017-01-01      3823\n",
      "1 2017-01-02      5105\n",
      "2 2017-01-03      3623\n",
      "------------------\n",
      "<class 'pandas.core.series.Series'>\n"
     ]
    }
   ],
   "source": [
    "#將資料根據日期new_DateId去對Quantity去做總和\n",
    "data = df.groupby(by='new_DateId')['Quantity'].sum().to_frame()\n",
    "print(data.head(3))\n",
    "print('------------------')\n",
    "#所以必須多加一個新的index 指標\n",
    "#讓序號重新編排,確保不會有重複的情形\n",
    "#Note:R裡面則不會有這個問題，所以R程式中不須另外處理它\n",
    "data.reset_index(level=0, inplace=True)\n",
    "print(data.head(3))\n",
    "print('------------------')\n",
    "print(type(data['new_DateId']))"
   ]
  },
  {
   "cell_type": "markdown",
   "metadata": {},
   "source": [
    "#### 判斷每筆資料日期是星期幾，在計算星期一到日每天的平均銷售量\n",
    "#### 使用datetime package\n"
   ]
  },
  {
   "cell_type": "code",
   "execution_count": 18,
   "metadata": {},
   "outputs": [
    {
     "name": "stdout",
     "output_type": "stream",
     "text": [
      "  new_DateId  Quantity  week\n",
      "0 2017-01-01      3823     6\n",
      "1 2017-01-02      5105     0\n"
     ]
    }
   ],
   "source": [
    "import datetime  #與時間有關的package，R裡面是用lubridate這個package\n",
    "#新增一個變數week到data這個data.frame裡面，就像R裡面的寫法如下，需額外引入dplyr package\n",
    "# data=mutate(data,week=as.POSIXlt(new_DateId)$wdays)\n",
    "# 1-6,0表示星期日\n",
    "data['week'] = data['new_DateId'].apply(lambda x: x.weekday())\n",
    "print(data.head(2))"
   ]
  },
  {
   "cell_type": "code",
   "execution_count": 28,
   "metadata": {},
   "outputs": [
    {
     "data": {
      "text/html": [
       "<div>\n",
       "<style scoped>\n",
       "    .dataframe tbody tr th:only-of-type {\n",
       "        vertical-align: middle;\n",
       "    }\n",
       "\n",
       "    .dataframe tbody tr th {\n",
       "        vertical-align: top;\n",
       "    }\n",
       "\n",
       "    .dataframe thead th {\n",
       "        text-align: right;\n",
       "    }\n",
       "</style>\n",
       "<table border=\"1\" class=\"dataframe\">\n",
       "  <thead>\n",
       "    <tr style=\"text-align: right;\">\n",
       "      <th></th>\n",
       "      <th>Quantity</th>\n",
       "    </tr>\n",
       "    <tr>\n",
       "      <th>week</th>\n",
       "      <th></th>\n",
       "    </tr>\n",
       "  </thead>\n",
       "  <tbody>\n",
       "    <tr>\n",
       "      <th>0</th>\n",
       "      <td>5853.759259</td>\n",
       "    </tr>\n",
       "    <tr>\n",
       "      <th>1</th>\n",
       "      <td>6707.981481</td>\n",
       "    </tr>\n",
       "    <tr>\n",
       "      <th>2</th>\n",
       "      <td>6604.396226</td>\n",
       "    </tr>\n",
       "    <tr>\n",
       "      <th>3</th>\n",
       "      <td>5833.264151</td>\n",
       "    </tr>\n",
       "    <tr>\n",
       "      <th>4</th>\n",
       "      <td>5534.433962</td>\n",
       "    </tr>\n",
       "    <tr>\n",
       "      <th>5</th>\n",
       "      <td>6261.679245</td>\n",
       "    </tr>\n",
       "    <tr>\n",
       "      <th>6</th>\n",
       "      <td>6524.407407</td>\n",
       "    </tr>\n",
       "  </tbody>\n",
       "</table>\n",
       "</div>"
      ],
      "text/plain": [
       "         Quantity\n",
       "week             \n",
       "0     5853.759259\n",
       "1     6707.981481\n",
       "2     6604.396226\n",
       "3     5833.264151\n",
       "4     5534.433962\n",
       "5     6261.679245\n",
       "6     6524.407407"
      ]
     },
     "execution_count": 28,
     "metadata": {},
     "output_type": "execute_result"
    }
   ],
   "source": [
    "#根據不同的星期幾，將Quantity做一個平均，並存成data.frame\n",
    "\n",
    "#就像R裡面的寫法如下，且需要data.table這個package\n",
    "#欲使用filter，需先確定data是data.frame的格式，才可使用\n",
    "#data1=filter(data)%>%group_by(week)%>%summarise(DayMean_Quantity=mean(Quantity))\n",
    "#注意事項:R中使用了group_by後，資料就會變成data.frame及groupby的格式，需重新將其定義為data.table或data.frame\n",
    "#的格式，使用的方式就是setDT(data1)轉成data.table格式，或setDF(data1)轉成data.frame格式\n",
    "\n",
    "#此處Python並未將求得的每星期幾的平均Quantity，另存一個變數，而是沿用原來的Quantity這個變數\n",
    "data1= data.groupby(by='week')['Quantity'].mean().to_frame()\n",
    "data1.head(7)"
   ]
  },
  {
   "cell_type": "code",
   "execution_count": 29,
   "metadata": {},
   "outputs": [
    {
     "data": {
      "text/html": [
       "<div>\n",
       "<style scoped>\n",
       "    .dataframe tbody tr th:only-of-type {\n",
       "        vertical-align: middle;\n",
       "    }\n",
       "\n",
       "    .dataframe tbody tr th {\n",
       "        vertical-align: top;\n",
       "    }\n",
       "\n",
       "    .dataframe thead th {\n",
       "        text-align: right;\n",
       "    }\n",
       "</style>\n",
       "<table border=\"1\" class=\"dataframe\">\n",
       "  <thead>\n",
       "    <tr style=\"text-align: right;\">\n",
       "      <th></th>\n",
       "      <th>week</th>\n",
       "      <th>Quantity</th>\n",
       "    </tr>\n",
       "  </thead>\n",
       "  <tbody>\n",
       "    <tr>\n",
       "      <th>0</th>\n",
       "      <td>0</td>\n",
       "      <td>5853.759259</td>\n",
       "    </tr>\n",
       "    <tr>\n",
       "      <th>1</th>\n",
       "      <td>1</td>\n",
       "      <td>6707.981481</td>\n",
       "    </tr>\n",
       "    <tr>\n",
       "      <th>2</th>\n",
       "      <td>2</td>\n",
       "      <td>6604.396226</td>\n",
       "    </tr>\n",
       "    <tr>\n",
       "      <th>3</th>\n",
       "      <td>3</td>\n",
       "      <td>5833.264151</td>\n",
       "    </tr>\n",
       "    <tr>\n",
       "      <th>4</th>\n",
       "      <td>4</td>\n",
       "      <td>5534.433962</td>\n",
       "    </tr>\n",
       "    <tr>\n",
       "      <th>5</th>\n",
       "      <td>5</td>\n",
       "      <td>6261.679245</td>\n",
       "    </tr>\n",
       "    <tr>\n",
       "      <th>6</th>\n",
       "      <td>6</td>\n",
       "      <td>6524.407407</td>\n",
       "    </tr>\n",
       "  </tbody>\n",
       "</table>\n",
       "</div>"
      ],
      "text/plain": [
       "   week     Quantity\n",
       "0     0  5853.759259\n",
       "1     1  6707.981481\n",
       "2     2  6604.396226\n",
       "3     3  5833.264151\n",
       "4     4  5534.433962\n",
       "5     5  6261.679245\n",
       "6     6  6524.407407"
      ]
     },
     "execution_count": 29,
     "metadata": {},
     "output_type": "execute_result"
    }
   ],
   "source": [
    "#同樣的上面的data1，因為經過groupby(week)，所以week變成index，\n",
    "#將使用新增一個index來避免這個問題，如下\n",
    "#Note:R裡面則不會有這個問題，所以R程式中不須另外處理它\n",
    "data1.reset_index(level=0, inplace=True)#讓序號重新編排,確保不會有重複的情形\n",
    "data1.head(7)"
   ]
  },
  {
   "cell_type": "code",
   "execution_count": 31,
   "metadata": {},
   "outputs": [
    {
     "data": {
      "text/html": [
       "<div>\n",
       "<style scoped>\n",
       "    .dataframe tbody tr th:only-of-type {\n",
       "        vertical-align: middle;\n",
       "    }\n",
       "\n",
       "    .dataframe tbody tr th {\n",
       "        vertical-align: top;\n",
       "    }\n",
       "\n",
       "    .dataframe thead th {\n",
       "        text-align: right;\n",
       "    }\n",
       "</style>\n",
       "<table border=\"1\" class=\"dataframe\">\n",
       "  <thead>\n",
       "    <tr style=\"text-align: right;\">\n",
       "      <th></th>\n",
       "      <th>week</th>\n",
       "      <th>Quantity</th>\n",
       "    </tr>\n",
       "    <tr>\n",
       "      <th>week_name</th>\n",
       "      <th></th>\n",
       "      <th></th>\n",
       "    </tr>\n",
       "  </thead>\n",
       "  <tbody>\n",
       "    <tr>\n",
       "      <th>0</th>\n",
       "      <td>0</td>\n",
       "      <td>5853.759259</td>\n",
       "    </tr>\n",
       "    <tr>\n",
       "      <th>1</th>\n",
       "      <td>1</td>\n",
       "      <td>6707.981481</td>\n",
       "    </tr>\n",
       "    <tr>\n",
       "      <th>2</th>\n",
       "      <td>2</td>\n",
       "      <td>6604.396226</td>\n",
       "    </tr>\n",
       "    <tr>\n",
       "      <th>3</th>\n",
       "      <td>3</td>\n",
       "      <td>5833.264151</td>\n",
       "    </tr>\n",
       "    <tr>\n",
       "      <th>4</th>\n",
       "      <td>4</td>\n",
       "      <td>5534.433962</td>\n",
       "    </tr>\n",
       "  </tbody>\n",
       "</table>\n",
       "</div>"
      ],
      "text/plain": [
       "           week     Quantity\n",
       "week_name                   \n",
       "0             0  5853.759259\n",
       "1             1  6707.981481\n",
       "2             2  6604.396226\n",
       "3             3  5833.264151\n",
       "4             4  5534.433962"
      ]
     },
     "execution_count": 31,
     "metadata": {},
     "output_type": "execute_result"
    }
   ],
   "source": [
    "#將沒有名稱的index重新命名為week_name\n",
    "data1.index.rename('week_name',inplace=True)\n",
    "data1.head()"
   ]
  },
  {
   "cell_type": "code",
   "execution_count": 35,
   "metadata": {},
   "outputs": [
    {
     "data": {
      "text/html": [
       "<div>\n",
       "<style scoped>\n",
       "    .dataframe tbody tr th:only-of-type {\n",
       "        vertical-align: middle;\n",
       "    }\n",
       "\n",
       "    .dataframe tbody tr th {\n",
       "        vertical-align: top;\n",
       "    }\n",
       "\n",
       "    .dataframe thead th {\n",
       "        text-align: right;\n",
       "    }\n",
       "</style>\n",
       "<table border=\"1\" class=\"dataframe\">\n",
       "  <thead>\n",
       "    <tr style=\"text-align: right;\">\n",
       "      <th></th>\n",
       "      <th>week</th>\n",
       "      <th>Quantity</th>\n",
       "    </tr>\n",
       "    <tr>\n",
       "      <th>week_name</th>\n",
       "      <th></th>\n",
       "      <th></th>\n",
       "    </tr>\n",
       "  </thead>\n",
       "  <tbody>\n",
       "    <tr>\n",
       "      <th>Sun</th>\n",
       "      <td>0</td>\n",
       "      <td>5853.759259</td>\n",
       "    </tr>\n",
       "    <tr>\n",
       "      <th>Mon</th>\n",
       "      <td>1</td>\n",
       "      <td>6707.981481</td>\n",
       "    </tr>\n",
       "    <tr>\n",
       "      <th>Tues</th>\n",
       "      <td>2</td>\n",
       "      <td>6604.396226</td>\n",
       "    </tr>\n",
       "    <tr>\n",
       "      <th>Wed</th>\n",
       "      <td>3</td>\n",
       "      <td>5833.264151</td>\n",
       "    </tr>\n",
       "    <tr>\n",
       "      <th>Thur</th>\n",
       "      <td>4</td>\n",
       "      <td>5534.433962</td>\n",
       "    </tr>\n",
       "    <tr>\n",
       "      <th>Fri</th>\n",
       "      <td>5</td>\n",
       "      <td>6261.679245</td>\n",
       "    </tr>\n",
       "    <tr>\n",
       "      <th>Sat</th>\n",
       "      <td>6</td>\n",
       "      <td>6524.407407</td>\n",
       "    </tr>\n",
       "  </tbody>\n",
       "</table>\n",
       "</div>"
      ],
      "text/plain": [
       "           week     Quantity\n",
       "week_name                   \n",
       "Sun           0  5853.759259\n",
       "Mon           1  6707.981481\n",
       "Tues          2  6604.396226\n",
       "Wed           3  5833.264151\n",
       "Thur          4  5534.433962\n",
       "Fri           5  6261.679245\n",
       "Sat           6  6524.407407"
      ]
     },
     "execution_count": 35,
     "metadata": {},
     "output_type": "execute_result"
    }
   ],
   "source": [
    "#填入week_name=0,表示Sunday等\n",
    "d={0:'Sun', 1:'Mon', 2:'Tues',3:'Wed', 4:'Thur',5:'Fri',6:'Sat'}\n",
    "data_AvWeek=data1.rename(index=d)\n",
    "data_AvWeek.head(7)"
   ]
  },
  {
   "cell_type": "markdown",
   "metadata": {},
   "source": [
    "#### 將前面計算出來的每星期幾平均數量的長條圖 "
   ]
  },
  {
   "cell_type": "code",
   "execution_count": 42,
   "metadata": {},
   "outputs": [],
   "source": [
    "# Choose the names of the bars\n",
    "bars = ('Sun.','Mon.','Tues.','Wed.','Thur.','Fri.','Sat.')\n",
    "y_pos = np.arange(len(bars))\n"
   ]
  },
  {
   "cell_type": "code",
   "execution_count": 43,
   "metadata": {},
   "outputs": [
    {
     "data": {
      "text/plain": [
       "array([0, 1, 2, 3, 4, 5, 6])"
      ]
     },
     "execution_count": 43,
     "metadata": {},
     "output_type": "execute_result"
    }
   ],
   "source": [
    "np.arange(len(bars))"
   ]
  },
  {
   "cell_type": "code",
   "execution_count": 66,
   "metadata": {},
   "outputs": [
    {
     "data": {
      "image/png": "[encoded data removed]",
      "text/plain": [
       "<matplotlib.figure.Figure at 0x12bfdc18>"
      ]
     },
     "metadata": {},
     "output_type": "display_data"
    }
   ],
   "source": [
    "#x軸為week=0,1,6，y軸為Quantity，就像R的plot(x,y)\n",
    "plt.bar(data_AvWeek['week'],data_AvWeek['Quantity'],color='red')\n",
    "\n",
    "#設x軸的名稱\n",
    "plt.xlabel('Week')\n",
    "#設y軸的名稱\n",
    "plt.ylabel('Mean Quantity')\n",
    "#設定圖形的標題\n",
    "plt.title('The relationship of Week and Mean Quantity')\n",
    "#設定x軸個長條圖下的變數及文字顏色\n",
    "#將week=0,1,2,..6轉成文字的Sun,Mon,...Sat\n",
    "x_name=('Sun','Mon','Tues','Wed','Thur','Fri','Sat')\n",
    "plt.xticks(data_AvWeek['week'],x_name,color='blue') \n",
    "plt.yticks(color='blue')\n",
    "\n",
    "plt.show() #可不需要此行"
   ]
  },
  {
   "cell_type": "markdown",
   "metadata": {},
   "source": [
    "# 結論:在憂鬱的星期一二銷售量會增高，而週五準備放假的日子銷售量也會增高"
   ]
  },
  {
   "cell_type": "code",
   "execution_count": null,
   "metadata": {},
   "outputs": [],
   "source": []
  }
 ],
 "metadata": {
  "kernelspec": {
   "display_name": "Python 3",
   "language": "python",
   "name": "python3"
  },
  "language_info": {
   "codemirror_mode": {
    "name": "ipython",
    "version": 3
   },
   "file_extension": ".py",
   "mimetype": "text/x-python",
   "name": "python",
   "nbconvert_exporter": "python",
   "pygments_lexer": "ipython3",
   "version": "3.6.4"
  }
 },
 "nbformat": 4,
 "nbformat_minor": 2
}
