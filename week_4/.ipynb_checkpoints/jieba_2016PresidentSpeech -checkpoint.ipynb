{
 "cells": [
  {
   "cell_type": "code",
   "execution_count": 17,
   "metadata": {},
   "outputs": [
    {
     "name": "stdout",
     "output_type": "stream",
     "text": [
      "               各位友邦的元首與貴賓、各國駐台使節及代表、現場的好朋友，全體國人同胞，大家好\n",
      "0                                               感謝與承擔\n",
      "1   就在剛剛，我和陳建仁已經在總統府裡面，正式宣誓就任中華民國第十四任總統與副總統。我們要感謝這...\n",
      "2   台灣，再一次用行動告訴世界，作為一群民主人與自由人，我們有堅定的信念，去捍衛民主自由的生活方...\n",
      "3   我要告訴大家，對於一月十六日的選舉結果，我從來沒有其他的解讀方式。人民選擇了新總統、新政府，...\n",
      "4   我也要告訴大家，眼前的種種難關，需要我們誠實面對，需要我們共同承擔。所以，這個演說是一個邀請...\n",
      "5   國家不會因為領導人而偉大；全體國民的共同奮鬥，才讓這個國家偉大。總統該團結的不只是支持者，總...\n",
      "6   在我們共同奮鬥的過程中，身為總統，我要向全國人民宣示，未來我和新政府，將領導這個國家的改革，...\n",
      "7                                       為年輕人打造一個更好的國家\n",
      "8          未來的路並不好走，台灣需要一個正面迎向一切挑戰的新政府，我的責任就是領導這個新政府。\n",
      "9   我們的年金制度，如果不改，就會破產。我們僵化的教育制度，已經逐漸與社會脈動脫節。我們的能源與...\n",
      "10  年輕人的未來是政府的責任。如果不友善的結構沒有改變，再多個人菁英的出現，都不足以讓整體年輕人...\n",
      "11  這就是我想為台灣的年輕人做的事。雖然我沒有辦法立刻幫所有的年輕人加薪，但是我願意承諾，新政府...\n",
      "12  改變年輕人的處境，就是改變國家的處境。一個國家的年輕人沒有未來，這個國家必定沒有未來。幫助年...\n",
      "13                        要打造一個更好的國家，未來，新政府要做到以下幾件事情。\n",
      "14  首先，就是讓台灣的經濟結構轉型。這是新政府所必須承擔的最艱鉅使命。我們不要妄自菲薄，更不要失...\n"
     ]
    }
   ],
   "source": [
    "import pandas as pd #這個package有一些統計運算，資料可存成data.frame\n",
    "import numpy as np\n",
    "import jieba\n",
    "ret= pd.read_csv(r'C:\\Users\\Ellipsiz\\Desktop\\NTU-CSXproject\\week_4\\speech.txt')\n",
    "print(ret.head(15))\n",
    "\n",
    "\n",
    "\n"
   ]
  },
  {
   "cell_type": "code",
   "execution_count": 18,
   "metadata": {},
   "outputs": [
    {
     "name": "stdout",
     "output_type": "stream",
     "text": [
      "<generator object Tokenizer.cut at 0x000000000F440EB8>\n"
     ]
    }
   ],
   "source": [
    "#ret = open(\"speech.txt\", \"r\").read()\n",
    "seglist = jieba.cut(ret, cut_all=False)\n",
    "\n",
    "print(seglist)"
   ]
  },
  {
   "cell_type": "code",
   "execution_count": 24,
   "metadata": {},
   "outputs": [],
   "source": [
    "import json\n",
    "hash = {}\n",
    "for item in seglist: \n",
    "  if item in hash:\n",
    "    hash[item] += 1\n",
    "  else:\n",
    "    hash[item] = 1\n",
    "json.dump(hash,open(\"count.json\",\"w\"))\n",
    "\n"
   ]
  },
  {
   "cell_type": "code",
   "execution_count": 25,
   "metadata": {},
   "outputs": [],
   "source": [
    "fd = open(\"count.csv\",\"w\")\n",
    "fd.write(\"word,count\\n\")\n",
    "for k in hash:\n",
    "  fd.write(\"%s,%d\\n\"%(k.encode(\"utf8\"),hash[k]))"
   ]
  },
  {
   "cell_type": "code",
   "execution_count": null,
   "metadata": {},
   "outputs": [],
   "source": []
  },
  {
   "cell_type": "code",
   "execution_count": null,
   "metadata": {},
   "outputs": [],
   "source": []
  }
 ],
 "metadata": {
  "kernelspec": {
   "display_name": "Python 3",
   "language": "python",
   "name": "python3"
  },
  "language_info": {
   "codemirror_mode": {
    "name": "ipython",
    "version": 3
   },
   "file_extension": ".py",
   "mimetype": "text/x-python",
   "name": "python",
   "nbconvert_exporter": "python",
   "pygments_lexer": "ipython3",
   "version": "3.6.4"
  }
 },
 "nbformat": 4,
 "nbformat_minor": 2
}
