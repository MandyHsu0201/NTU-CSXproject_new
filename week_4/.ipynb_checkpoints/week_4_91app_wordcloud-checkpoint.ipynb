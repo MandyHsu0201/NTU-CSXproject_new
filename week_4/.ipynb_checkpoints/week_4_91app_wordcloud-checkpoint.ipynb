{
 "cells": [
  {
   "cell_type": "markdown",
   "metadata": {},
   "source": [
    "### 透過臉書facebook圖形API測試工具來找貼文的內容，爬取91app的臉書訊息"
   ]
  },
  {
   "cell_type": "code",
   "execution_count": 1,
   "metadata": {},
   "outputs": [],
   "source": [
    "import requests\n",
    "import json\n",
    "import pandas as pd\n",
    "#import csv\n",
    "#from wordcloud import WordCloud\n",
    "import matplotlib.pyplot as plt\n",
    "import jieba\n",
    "import numpy as np"
   ]
  },
  {
   "cell_type": "code",
   "execution_count": 48,
   "metadata": {},
   "outputs": [],
   "source": [
    "#讀取91app的網頁，分成三個部份\n",
    "#臉書圖形api網址及版本\n",
    "head=\"https://graph.facebook.com/v2.12/\"\n",
    "#我們想要爬取的id，貼文，(limit=5)五篇存成一個單位/檔而不是取當天前5篇的貼文，\n",
    "#   時間區間設在12/1-12/31(since,until要同時使用，但until的那天的資料不會放入，也就是不包含最後一天)\n",
    "whoandtime=\"1498922743698823/posts?limit=2&since=2018-04-01&until=2018-04-07&access_token=\"\n",
    "#每兩小時會改變一次，只要修改這裡即可\n",
    "token=\"EAACEdEose0cBAKtpVjtBVZAz4usr9ZCOUMK4engh19MxJJzoF6enhm59AYZCbZBojjhD4p3zZATlfwaDzkpn0K100w58DTNf35ZBzC5h88mzPbAKox9J4qKNZBbnOhzfeUA2oEBcVh4LqsgnxJd9RaKIHZAZBN8sm5Ds3AuQHXXZC8Ot2ZBKxvSHrUtLC8Xfe0rgD0ZD\"\n",
    "#網頁\n",
    "url = head+whoandtime+token"
   ]
  },
  {
   "cell_type": "code",
   "execution_count": 49,
   "metadata": {
    "scrolled": true
   },
   "outputs": [
    {
     "data": {
      "text/plain": [
       "{'data': [{'created_time': '2018-04-06T13:00:01+0000',\n",
       "   'id': '1498922743698823_2075341759390249',\n",
       "   'message': '日本最狂CEO>> 伊藤嘉明\\n主管推估只能賣30 萬張的DVD，他說可以賣個 100 萬張。\\n遭到主管質疑後，他改口說能賣個 200 萬張...'},\n",
       "  {'created_time': '2018-04-05T13:00:01+0000',\n",
       "   'id': '1498922743698823_2075344162723342',\n",
       "   'message': '用更科學的方式來解析行銷'}],\n",
       " 'paging': {'cursors': {'after': 'Q2c4U1pXNTBYM0YxWlhKNVgzTjBiM0o1WDJsa0R5VXhORGs0T1RJeU56UXpOams0T0RJek9pMDFOalkyTkRjMU5EUXhNRGt4TURjMU9UYzNEd3hoY0dsZAmMzUnZAjbmxmYVdRUElURTBPVGc1TWpJM05ETTJPVGc0TWpOZAk1qQTNOVE0wTkRFMk1qY3lNek0wTWc4RWRHbHRaUVpheGgzUkFRPT0ZD',\n",
       "   'before': 'Q2c4U1pXNTBYM0YxWlhKNVgzTjBiM0o1WDJsa0R5UXhORGs0T1RJeU56UXpOams0T0RJek9qTTBPRFV6TmpreE9Ea3pOakF4T0RjM01qRVBER0ZA3YVY5emRHOXllVjlwWkE4aE1UUTVPRGt5TWpjME16WTVPRGd5TTE4eU1EYzFNelF4TnpVNU16a3dNalE1RHdSMGFXMWxCbHJIYjFFQgZDZD'},\n",
       "  'next': 'https://graph.facebook.com/v2.12/1498922743698823/posts?access_token=EAACEdEose0cBAKtpVjtBVZAz4usr9ZCOUMK4engh19MxJJzoF6enhm59AYZCbZBojjhD4p3zZATlfwaDzkpn0K100w58DTNf35ZBzC5h88mzPbAKox9J4qKNZBbnOhzfeUA2oEBcVh4LqsgnxJd9RaKIHZAZBN8sm5Ds3AuQHXXZC8Ot2ZBKxvSHrUtLC8Xfe0rgD0ZD&since=2018-04-01&until=2018-04-07&limit=2&after=Q2c4U1pXNTBYM0YxWlhKNVgzTjBiM0o1WDJsa0R5VXhORGs0T1RJeU56UXpOams0T0RJek9pMDFOalkyTkRjMU5EUXhNRGt4TURjMU9UYzNEd3hoY0dsZAmMzUnZAjbmxmYVdRUElURTBPVGc1TWpJM05ETTJPVGc0TWpOZAk1qQTNOVE0wTkRFMk1qY3lNek0wTWc4RWRHbHRaUVpheGgzUkFRPT0ZD'}}"
      ]
     },
     "execution_count": 49,
     "metadata": {},
     "output_type": "execute_result"
    }
   ],
   "source": [
    "response = requests.get(url)\n",
    "html = json.loads(response.text) \n",
    "html #複製到記事本檢查可發現只呈現了一頁，還有下頁未完 (next 在paging裡面)"
   ]
  },
  {
   "cell_type": "markdown",
   "metadata": {},
   "source": [
    "### 爬取很多頁的貼文 "
   ]
  },
  {
   "cell_type": "markdown",
   "metadata": {},
   "source": [
    "###### 爬取第一頁及提供讀取下頁所需要的資訊 "
   ]
  },
  {
   "cell_type": "code",
   "execution_count": 50,
   "metadata": {},
   "outputs": [
    {
     "name": "stdout",
     "output_type": "stream",
     "text": [
      "               created_time                                 id  \\\n",
      "0  2018-04-06T13:00:01+0000  1498922743698823_2075341759390249   \n",
      "1  2018-04-05T13:00:01+0000  1498922743698823_2075344162723342   \n",
      "\n",
      "                                             message  \n",
      "0  日本最狂CEO>> 伊藤嘉明\\n主管推估只能賣30 萬張的DVD，他說可以賣個 100 萬張...  \n",
      "1                                       用更科學的方式來解析行銷  \n"
     ]
    }
   ],
   "source": [
    "#這段是為了提供給下面程式區塊所需要的資訊\n",
    "#讀取下一頁的網址，就在next下面那行即是下一頁的網址\n",
    "nextflg= html['paging']['next'] \n",
    "#paging下包含cursors和next，而cursors下包含after及before\n",
    "#after後面接的就是開啟下一頁網頁時的網址後半段，填入後面引號內...&limit=5&after=\"\"\n",
    "#before也就是前一頁網頁的網址的部份資訊\n",
    "#抓出下一個游標(after那部份的內容)\n",
    "after  = html['paging']['cursors']['after']\n",
    "\n",
    "\n",
    "\n",
    "#把上面的html存成data.frame的格式\n",
    "s1 = pd.DataFrame.from_dict(html['data'])\n",
    "print(s1)\n",
    "\n",
    "#將第一頁的貼文存成文字檔，其中第一頁的時間是我們設定的時間區間中最新的日期\n",
    "#也就是抓取資料時是由最新的日期開始抓\n",
    "#定義檔名為1的txt檔，存在此程式下的資料夾\n",
    "filename = \"1\"+\".txt\"\n",
    "s1.to_csv(filename, sep='\\t', index=False)"
   ]
  },
  {
   "cell_type": "markdown",
   "metadata": {},
   "source": [
    "## 爬到最後一頁時，可能不會再出現next，則該如何處理?使用try except或是if else來避免這個問題 "
   ]
  },
  {
   "cell_type": "markdown",
   "metadata": {},
   "source": [
    "##### 如何估計會產生幾頁的檔案??之後才知道要讀取幾個檔案的內容來做文字雲"
   ]
  },
  {
   "cell_type": "code",
   "execution_count": 51,
   "metadata": {},
   "outputs": [
    {
     "name": "stdout",
     "output_type": "stream",
     "text": [
      "Times= 2\n",
      "url https://graph.facebook.com/v2.12/1498922743698823/posts?pretty=0&since=2018-04-01&until=2018-04-07&limit=2&after=Q2c4U1pXNTBYM0YxWlhKNVgzTjBiM0o1WDJsa0R5VXhORGs0T1RJeU56UXpOams0T0RJek9pMDFOalkyTkRjMU5EUXhNRGt4TURjMU9UYzNEd3hoY0dsZAmMzUnZAjbmxmYVdRUElURTBPVGc1TWpJM05ETTJPVGc0TWpOZAk1qQTNOVE0wTkRFMk1qY3lNek0wTWc4RWRHbHRaUVpheGgzUkFRPT0ZD&access_token=EAACEdEose0cBAKtpVjtBVZAz4usr9ZCOUMK4engh19MxJJzoF6enhm59AYZCbZBojjhD4p3zZATlfwaDzkpn0K100w58DTNf35ZBzC5h88mzPbAKox9J4qKNZBbnOhzfeUA2oEBcVh4LqsgnxJd9RaKIHZAZBN8sm5Ds3AuQHXXZC8Ot2ZBKxvSHrUtLC8Xfe0rgD0ZD\n",
      "s1                created_time                                 id  \\\n",
      "0  2018-04-04T13:00:04+0000  1498922743698823_2075342359390189   \n",
      "1  2018-04-03T13:30:01+0000  1498922743698823_2075343196056772   \n",
      "\n",
      "             message  \n",
      "0  狂!全家讓便利超商不只是便利超商了  \n",
      "1             馬叔叔好驚人  \n",
      "Times= 3\n",
      "url https://graph.facebook.com/v2.12/1498922743698823/posts?pretty=0&since=2018-04-01&until=2018-04-07&limit=2&after=Q2c4U1pXNTBYM0YxWlhKNVgzTjBiM0o1WDJsa0R5UXhORGs0T1RJeU56UXpOams0T0RJek9qYzBPVGd5TWpZANE1qTXdPVEkwTkRFME1EZA1BER0ZA3YVY5emRHOXllVjlwWkE4aE1UUTVPRGt5TWpjME16WTVPRGd5TTE4eU1EYzFNelF6TVRrMk1EVTJOemN5RHdSMGFXMWxCbHJEZA2RrQgZDZD&access_token=EAACEdEose0cBAKtpVjtBVZAz4usr9ZCOUMK4engh19MxJJzoF6enhm59AYZCbZBojjhD4p3zZATlfwaDzkpn0K100w58DTNf35ZBzC5h88mzPbAKox9J4qKNZBbnOhzfeUA2oEBcVh4LqsgnxJd9RaKIHZAZBN8sm5Ds3AuQHXXZC8Ot2ZBKxvSHrUtLC8Xfe0rgD0ZD\n",
      "s1                created_time                                 id  \\\n",
      "0  2018-04-03T13:00:00+0000  1498922743698823_2075465249377900   \n",
      "1  2018-04-03T02:03:37+0000  1498922743698823_2075686786022413   \n",
      "\n",
      "                      message                                        story  \n",
      "0          我是有被第3個驚嚇到，你也都信了嗎？                                          NaN  \n",
      "1  雖然只是愚人節\\n但影片一點都不馬虎。\\n#想買來喝  91APP 品牌新零售 shared FeedMe日本在地美食研究會's video.  \n",
      "Times= 4\n",
      "url https://graph.facebook.com/v2.12/1498922743698823/posts?pretty=0&since=2018-04-01&until=2018-04-07&limit=2&after=Q2c4U1pXNTBYM0YxWlhKNVgzTjBiM0o1WDJsa0R5TXhORGs0T1RJeU56UXpOams0T0RJek9qa3dNREl3TnpNNE16YzBNVGcwTlRFek1BOE1ZAWEJwWDNOMGIzSjVYMmxrRHlFeE5EazRPVEl5TnpRek5qazRPREl6WHpJd056VTJPRFkzT0RZAd01qSTBNVE1QQkhScGJXVUdXc0xnK1FFPQZDZD&access_token=EAACEdEose0cBAKtpVjtBVZAz4usr9ZCOUMK4engh19MxJJzoF6enhm59AYZCbZBojjhD4p3zZATlfwaDzkpn0K100w58DTNf35ZBzC5h88mzPbAKox9J4qKNZBbnOhzfeUA2oEBcVh4LqsgnxJd9RaKIHZAZBN8sm5Ds3AuQHXXZC8Ot2ZBKxvSHrUtLC8Xfe0rgD0ZD\n",
      "s1                created_time                                 id  \\\n",
      "0  2018-04-03T00:30:00+0000  1498922743698823_2075338709390554   \n",
      "1  2018-04-02T13:30:00+0000  1498922743698823_2075398742717884   \n",
      "\n",
      "                                          message  \n",
      "0                                阿阿阿阿阿阿啊(小編爆走)!!!  \n",
      "1  過去12個月來第三張100萬發票!!!!!\\n我覺得中獎率偏高，各位怎麼看？\\n#可惜不是我  \n",
      "Times= 5\n",
      "url https://graph.facebook.com/v2.12/1498922743698823/posts?pretty=0&since=2018-04-01&until=2018-04-07&limit=2&after=Q2c4U1pXNTBYM0YxWlhKNVgzTjBiM0o1WDJsa0R5UXhORGs0T1RJeU56UXpOams0T0RJek9qWTBOek01TVRNek5UUTJOamM0TmpZAMU9EZA1BER0ZA3YVY5emRHOXllVjlwWkE4aE1UUTVPRGt5TWpjME16WTVPRGd5TTE4eU1EYzFNems0TnpReU56RTNPRGcwRHdSMGFXMWxCbHJDTUZAnQgZDZD&access_token=EAACEdEose0cBAKtpVjtBVZAz4usr9ZCOUMK4engh19MxJJzoF6enhm59AYZCbZBojjhD4p3zZATlfwaDzkpn0K100w58DTNf35ZBzC5h88mzPbAKox9J4qKNZBbnOhzfeUA2oEBcVh4LqsgnxJd9RaKIHZAZBN8sm5Ds3AuQHXXZC8Ot2ZBKxvSHrUtLC8Xfe0rgD0ZD\n",
      "s1                created_time                                 id  \\\n",
      "0  2018-04-01T04:10:24+0000  1498922743698823_2074787826112309   \n",
      "1  2018-04-01T04:10:00+0000  1498922743698823_2074781386112953   \n",
      "\n",
      "                                             message  \\\n",
      "0  【舌尖上的91APP】料理人氣票選!!!!\\n昨天補班日，行銷部的夥伴們化身特級廚師，\\n展...   \n",
      "1  【舌尖上的91APP】料理人氣票選!!!!\\n昨天補班日，行銷部的夥伴們化身特級廚師，\\n展...   \n",
      "\n",
      "                             story  \n",
      "0  91APP 品牌新零售 added 4 new photos.  \n",
      "1                              NaN  \n",
      "Times= 6\n",
      "url https://graph.facebook.com/v2.12/1498922743698823/posts?pretty=0&since=2018-04-01&until=2018-04-07&limit=2&after=Q2c4U1pXNTBYM0YxWlhKNVgzTjBiM0o1WDJsa0R5VXhORGs0T1RJeU56UXpOams0T0RJek9pMDNOamt3TVRreE5Ua3hORFEyT0RjeE16UXdEd3hoY0dsZAmMzUnZAjbmxmYVdRUElURTBPVGc1TWpJM05ETTJPVGc0TWpOZAk1qQTNORGM0TVRNNE5qRXhNamsxTXc4RWRHbHRaUVphd0ZA1WUFRPT0ZD&access_token=EAACEdEose0cBAKtpVjtBVZAz4usr9ZCOUMK4engh19MxJJzoF6enhm59AYZCbZBojjhD4p3zZATlfwaDzkpn0K100w58DTNf35ZBzC5h88mzPbAKox9J4qKNZBbnOhzfeUA2oEBcVh4LqsgnxJd9RaKIHZAZBN8sm5Ds3AuQHXXZC8Ot2ZBKxvSHrUtLC8Xfe0rgD0ZD\n",
      "s1                created_time                                 id  \\\n",
      "0  2018-04-01T04:10:00+0000  1498922743698823_2074784866112605   \n",
      "1  2018-04-01T04:10:00+0000  1498922743698823_2074783626112729   \n",
      "\n",
      "                                             message  \\\n",
      "0  【舌尖上的91APP】料理人氣票選!!!!\\n昨天補班日，行銷部的夥伴們化身特級廚師，\\n展...   \n",
      "1  【舌尖上的91APP】料理人氣票選!!!!\\n昨天補班日，行銷部的夥伴們化身特級廚師，\\n展...   \n",
      "\n",
      "                             story  \n",
      "0  91APP 品牌新零售 added 4 new photos.  \n",
      "1                              NaN  \n"
     ]
    }
   ],
   "source": [
    "#爬取第2頁~~預設時間區間內的最舊日期為止，每頁條數=limt\n",
    "#如何估計會產生幾頁的檔案??之後才知道要讀取幾個檔案的內容來做文字雲\n",
    "count=1\n",
    "while nextflg != None:  \n",
    "  count=count+1\n",
    "  attrs  = \"1498922743698823/posts?pretty=0&since=2018-04-01&until=2018-04-07&limit=2&after=\"+after+\"&access_token=\"  \n",
    "  print(\"Times=\",count)\n",
    "  url = head+attrs+token\n",
    "  print(\"url\",url)\n",
    "  response = requests.get(url)\n",
    "  html = json.loads(response.text) \n",
    "  s1 = pd.DataFrame.from_dict(html['data'])\n",
    "  print(\"s1\",s1)  \n",
    "  filename = str(count)+\".txt\"\n",
    "  s1.to_csv(filename, sep='\\t', index=False)\n",
    "  after  = html['paging']['cursors']['after']\n",
    "  #下面這段是用來避免抓到最後一頁時無法停止  \n",
    "  try:\n",
    "      nextflg = html['paging']['next']\n",
    "  except:\n",
    "      nextflg = None\n",
    "     "
   ]
  },
  {
   "cell_type": "code",
   "execution_count": 53,
   "metadata": {},
   "outputs": [
    {
     "name": "stdout",
     "output_type": "stream",
     "text": [
      "file_nb= 6\n"
     ]
    }
   ],
   "source": [
    "#上面產生的檔案個數\n",
    "file_nb=count   \n",
    "print(\"file_nb=\",file_nb)"
   ]
  },
  {
   "cell_type": "code",
   "execution_count": 54,
   "metadata": {},
   "outputs": [
    {
     "name": "stdout",
     "output_type": "stream",
     "text": [
      "0    日本最狂CEO>> 伊藤嘉明\\r\\n主管推估只能賣30 萬張的DVD，他說可以賣個 100 ...\n",
      "1                                         用更科學的方式來解析行銷\n",
      "Name: message, dtype: object\n",
      "0    狂!全家讓便利超商不只是便利超商了\n",
      "1               馬叔叔好驚人\n",
      "Name: message, dtype: object\n",
      "0                我是有被第3個驚嚇到，你也都信了嗎？\n",
      "1    雖然只是愚人節\\r\\n但影片一點都不馬虎。\\r\\n#想買來喝\n",
      "Name: message, dtype: object\n",
      "0                                     阿阿阿阿阿阿啊(小編爆走)!!!\n",
      "1    過去12個月來第三張100萬發票!!!!!\\r\\n我覺得中獎率偏高，各位怎麼看？\\r\\n#可...\n",
      "Name: message, dtype: object\n",
      "0    【舌尖上的91APP】料理人氣票選!!!!\\r\\n昨天補班日，行銷部的夥伴們化身特級廚師，\\...\n",
      "1    【舌尖上的91APP】料理人氣票選!!!!\\r\\n昨天補班日，行銷部的夥伴們化身特級廚師，\\...\n",
      "Name: message, dtype: object\n",
      "0    【舌尖上的91APP】料理人氣票選!!!!\\r\\n昨天補班日，行銷部的夥伴們化身特級廚師，\\...\n",
      "1    【舌尖上的91APP】料理人氣票選!!!!\\r\\n昨天補班日，行銷部的夥伴們化身特級廚師，\\...\n",
      "Name: message, dtype: object\n",
      "日本最狂CEO>> 伊藤嘉明\r\n",
      "主管推估只能賣30 萬張的DVD，他說可以賣個 100 萬張。\r\n",
      "遭到主管質疑後，他改口說能賣個 200 萬張...用更科學的方式來解析行銷狂!全家讓便利超商不只是便利超商了馬叔叔好驚人我是有被第3個驚嚇到，你也都信了嗎？雖然只是愚人節\r\n",
      "但影片一點都不馬虎。\r\n",
      "#想買來喝阿阿阿阿阿阿啊(小編爆走)!!!過去12個月來第三張100萬發票!!!!!\r\n",
      "我覺得中獎率偏高，各位怎麼看？\r\n",
      "#可惜不是我【舌尖上的91APP】料理人氣票選!!!!\r\n",
      "昨天補班日，行銷部的夥伴們化身特級廚師，\r\n",
      "展開一場「終極料理大亂鬥」。\r\n",
      "請各位粉絲評比一下，究竟哪一隊的料理深得你心呢？\r\n",
      "🎉投票方式：在你喜歡的料理貼文一個讚，不限票數。\r\n",
      "\r\n",
      "隊名【山小編與他的快樂夥伴們】\r\n",
      "菜名：\r\n",
      "9牛1毛頂級菲力   拼  同鮭魚盡炙燒鮭魚排\r\n",
      "\r\n",
      "我們採取顛覆傳統的料理方式\r\n",
      "開啟了牛魚雙拼的新格局\r\n",
      "兩種不同的食材在味蕾間碰撞\r\n",
      "時而輕巧、時而強烈\r\n",
      "帶給料理更多可能與想像【舌尖上的91APP】料理人氣票選!!!!\r\n",
      "昨天補班日，行銷部的夥伴們化身特級廚師，\r\n",
      "展開一場「終極料理大亂鬥」。\r\n",
      "請各位粉絲評比一下，究竟哪一隊的料理深得你心呢？\r\n",
      "🎉投票方式：在你喜歡的料理貼文一個讚，不限票數。\r\n",
      "\r\n",
      "隊名【舌尖上的蕭婆隊】\r\n",
      "驚動米其林主廚的神秘料理\r\n",
      "高檔食材制霸味蕾\r\n",
      "天使紅蝦與福岡咖哩草莓的極致表現\r\n",
      "好吃是基本，還要讓你春到起秋、潮到出水!【舌尖上的91APP】料理人氣票選!!!!\r\n",
      "昨天補班日，行銷部的夥伴們化身特級廚師，\r\n",
      "展開一場「終極料理大亂鬥」。\r\n",
      "請各位粉絲評比一下，究竟哪一隊的料理深得你心呢？\r\n",
      "🎉投票方式：在你喜歡的料理貼文一個讚，不限票數。\r\n",
      "\r\n",
      "隊名【暗黑料理廚神組】\r\n",
      "📷最近超夯的打卡美食 - 髒髒包\r\n",
      "用酥皮包住巧克力塊，放入烤箱170度烤個15分鐘，最後淋上加熱過的巧克力醬並撒上可可粉，就能做出這麼迷人的美味，實在是沒必要去外面花大錢買呀！（賺錢好辛苦的）\r\n",
      "雖然在烤的過程中，發現酥皮邊邊沒包好會導致髒髒包有“嘔吐”的現象🤣 但一點也不影響口感，吐過更好吃！(?)\r\n",
      "☝️特製口味小tip：加入新鮮香蕉片🍌，美味更升級！\r\n",
      "\r\n",
      " 😍經典不敗甜點 - 提拉米蘇\r\n",
      "喜歡搞創意的我們，當然要做不一樣的提拉米蘇！一般外界都是只放手指餅乾，但我們除了放餅乾外，還加入了富含維他命Ｅ的綜合堅果果乾！讓口感不止綿密入口即化，還多了嚼勁及營養！\r\n",
      "假日若不想出門，就趕緊一起來製作看看！\r\n",
      "做美食、吃美食真的超紓壓～～【舌尖上的91APP】料理人氣票選!!!!\r\n",
      "昨天補班日，行銷部的夥伴們化身特級廚師，\r\n",
      "展開一場「終極料理大亂鬥」。\r\n",
      "請各位粉絲評比一下，究竟哪一隊的料理深得你心呢？\r\n",
      "🎉投票方式：給你喜歡的料理貼文一個讚，不限票數。\r\n",
      "\r\n",
      "隊名【新矽谷美味四大天菜】\r\n",
      "打動你的心，也打動你的胃。\n"
     ]
    }
   ],
   "source": [
    "sum=\"\"\n",
    "lsts=[]\n",
    "files=['1.txt','2.txt','3.txt','4.txt','5.txt','6.txt']\n",
    "for i in files:\n",
    "    file = pd.read_csv(i,header = 0,sep = \"\\t\")\n",
    "    f = file['message']\n",
    "    \n",
    "    print(f)\n",
    "    #把null弄掉\n",
    "    f = f[f.notnull()]\n",
    "    for item in f:\n",
    "        sum += item\n",
    "        lsts.append(item)\n",
    "        \n",
    "print(sum)"
   ]
  },
  {
   "cell_type": "code",
   "execution_count": null,
   "metadata": {},
   "outputs": [],
   "source": []
  }
 ],
 "metadata": {
  "kernelspec": {
   "display_name": "Python 3",
   "language": "python",
   "name": "python3"
  },
  "language_info": {
   "codemirror_mode": {
    "name": "ipython",
    "version": 3
   },
   "file_extension": ".py",
   "mimetype": "text/x-python",
   "name": "python",
   "nbconvert_exporter": "python",
   "pygments_lexer": "ipython3",
   "version": "3.6.4"
  }
 },
 "nbformat": 4,
 "nbformat_minor": 2
}
