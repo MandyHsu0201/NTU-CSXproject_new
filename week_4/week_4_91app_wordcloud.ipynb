{
 "cells": [
  {
   "cell_type": "markdown",
   "metadata": {},
   "source": [
    "### 透過臉書facebook圖形API測試工具來找貼文的內容，爬取91app的臉書訊息"
   ]
  },
  {
   "cell_type": "code",
   "execution_count": 2,
   "metadata": {},
   "outputs": [],
   "source": [
    "import requests\n",
    "import json\n",
    "import pandas as pd\n",
    "#import csv\n",
    "#from wordcloud import WordCloud\n",
    "import matplotlib.pyplot as plt\n",
    "import jieba\n",
    "import numpy as np"
   ]
  },
  {
   "cell_type": "code",
   "execution_count": 4,
   "metadata": {},
   "outputs": [],
   "source": [
    "#讀取91app的網頁，分成三個部份\n",
    "#臉書圖形api網址及版本\n",
    "head=\"https://graph.facebook.com/v2.12/\"\n",
    "#我們想要爬取的id，貼文，取前五篇(limit=5)，時間區間設在12/1-12/31(since,until要同時使用)\n",
    "whoandtime=\"1498922743698823/posts?limit=5&since=2017-12-01&until=2017-12-31&access_token=\"\n",
    "#每兩小時會改變一次，只要修改這裡即可\n",
    "token=\"EAACEdEose0cBAEQ3Tg9orjcTGDZATTAXJRJrA6OkjoWMntNizWFXyEbkoZCXWaFdFK9cm6C058sTTbu55ayBNXZBVAc1BbDetDJm3KrpWprpVZCTrd3AV0h53kr8n8CbT8Y0dRyajXNE4jsvcW3889fNFjVKRNZA0bycZBPox0axYZAVHH6cIBoQVYhXT3xRw4ZD\"\n",
    "#網頁\n",
    "url = head+whoandtime+token"
   ]
  },
  {
   "cell_type": "code",
   "execution_count": 5,
   "metadata": {
    "scrolled": true
   },
   "outputs": [
    {
     "data": {
      "text/plain": [
       "{'data': [{'created_time': '2017-12-29T13:00:00+0000',\n",
       "   'id': '1498922743698823_2027662857491473',\n",
       "   'message': '✨2018年依舊會是創作者大放異彩的一年!!!'},\n",
       "  {'created_time': '2017-12-29T04:32:29+0000',\n",
       "   'id': '1498922743698823_2027524624171963',\n",
       "   'message': '✨影片已成為2018數位行銷主戰場。'},\n",
       "  {'created_time': '2017-12-28T14:04:30+0000',\n",
       "   'id': '1498922743698823_2027216010869491',\n",
       "   'message': '【91嚴選!】aPure，人間的臭腳終結者。\\n看看一家從解決老闆自身腳臭問題起家，\\n一步一腳印，走過13年市場變化，\\n最終成為台灣臭腳終結者的故事。'},\n",
       "  {'created_time': '2017-12-27T04:05:42+0000',\n",
       "   'id': '1498922743698823_2026581374266288',\n",
       "   'message': '✨2017年大家都在Google什麼？',\n",
       "   'story': \"91APP 品牌新零售 shared 廣告裁判's video.\"},\n",
       "  {'created_time': '2017-12-26T13:31:01+0000',\n",
       "   'id': '1498922743698823_2026283177629441',\n",
       "   'message': '✨連攝影師也要加入AI失業大軍的行列了是否？'}],\n",
       " 'paging': {'cursors': {'after': 'Q2c4U1pXNTBYM0YxWlhKNVgzTjBiM0o1WDJsa0R5VXhORGs0T1RJeU56UXpOams0T0RJek9pMDFOelF3T1RnMU1UVTFPREl3TVRFNE5UVXlEd3hoY0dsZAmMzUnZAjbmxmYVdRUElURTBPVGc1TWpJM05ETTJPVGc0TWpOZAk1qQXlOakk0TXpFM056WXlPVFEwTVE4RWRHbHRaUVphUWs4VkFRPT0ZD',\n",
       "   'before': 'Q2c4U1pXNTBYM0YxWlhKNVgzTjBiM0o1WDJsa0R5VXhORGs0T1RJeU56UXpOams0T0RJek9pMHhNelEzT1RrM01EazBNVGswTVRBMk1UWTJEd3hoY0dsZAmMzUnZAjbmxmYVdRUElURTBPVGc1TWpJM05ETTJPVGc0TWpOZAk1qQXlOelkyTWpnMU56UTVNVFEzTXc4RWRHbHRaUVphUmp4UUFRPT0ZD'},\n",
       "  'next': 'https://graph.facebook.com/v2.12/1498922743698823/posts?access_token=EAACEdEose0cBAEQ3Tg9orjcTGDZATTAXJRJrA6OkjoWMntNizWFXyEbkoZCXWaFdFK9cm6C058sTTbu55ayBNXZBVAc1BbDetDJm3KrpWprpVZCTrd3AV0h53kr8n8CbT8Y0dRyajXNE4jsvcW3889fNFjVKRNZA0bycZBPox0axYZAVHH6cIBoQVYhXT3xRw4ZD&since=2017-12-01&until=2017-12-31&limit=5&after=Q2c4U1pXNTBYM0YxWlhKNVgzTjBiM0o1WDJsa0R5VXhORGs0T1RJeU56UXpOams0T0RJek9pMDFOelF3T1RnMU1UVTFPREl3TVRFNE5UVXlEd3hoY0dsZAmMzUnZAjbmxmYVdRUElURTBPVGc1TWpJM05ETTJPVGc0TWpOZAk1qQXlOakk0TXpFM056WXlPVFEwTVE4RWRHbHRaUVphUWs4VkFRPT0ZD'}}"
      ]
     },
     "execution_count": 5,
     "metadata": {},
     "output_type": "execute_result"
    }
   ],
   "source": [
    "response = requests.get(url)\n",
    "html = json.loads(response.text) \n",
    "html #複製到記事本檢查可發現只呈現了一頁，還有下頁未完 (next 在paging裡面)"
   ]
  },
  {
   "cell_type": "markdown",
   "metadata": {},
   "source": [
    "### 爬取很多頁的貼文 "
   ]
  },
  {
   "cell_type": "code",
   "execution_count": 9,
   "metadata": {},
   "outputs": [],
   "source": [
    "#讀取下一頁的網址，就在next下面那行即是下一頁的網址\n",
    "nextflg= html['paging']['next'] \n",
    "#paging下包含cursors和next，而cursors下包含after及before\n",
    "#抓出下一個游標(after那部份的內容)\n",
    "after  = html['paging']['cursors']['after']\n",
    "#把上面的html存成data.frame的格式\n",
    "s1 = pd.DataFrame.from_dict(html['data'])\n",
    "\n",
    "#將第一頁的貼文存成文字檔\n",
    "#定義檔名為1的txt檔，存在此程式下的資料夾\n",
    "filename = \"1\"+\".txt\"\n",
    "s1.to_csv(filename, sep='\\t', index=False)"
   ]
  },
  {
   "cell_type": "markdown",
   "metadata": {},
   "source": [
    "## 爬到最後一頁時，可能不會再出現next，則該如何處理?使用try except或是if else來避免這個問題 "
   ]
  },
  {
   "cell_type": "code",
   "execution_count": 13,
   "metadata": {},
   "outputs": [],
   "source": [
    "count=1\n",
    "while nextflg != None:  \n",
    "  count=count+1\n",
    "  attrs  = \"1498922743698823/posts?pretty=0&since=2017-12-01&until=2017-12-31&limit=5&after=\"+after+\"&access_token=\"  \n",
    "  url = head+attrs+token\n",
    "  response = requests.get(url)\n",
    "  html = json.loads(response.text) \n",
    "  s1 = pd.DataFrame.from_dict(html['data'])\n",
    "  filename = str(count)+\".txt\"\n",
    "  s1.to_csv(filename, sep='\\t', index=False)\n",
    "  after  = html['paging']['cursors']['after']\n",
    "  try:\n",
    "      nextflg = html['paging']['next']\n",
    "  except:\n",
    "      nextflg = None"
   ]
  },
  {
   "cell_type": "code",
   "execution_count": null,
   "metadata": {},
   "outputs": [],
   "source": []
  }
 ],
 "metadata": {
  "kernelspec": {
   "display_name": "Python 3",
   "language": "python",
   "name": "python3"
  },
  "language_info": {
   "codemirror_mode": {
    "name": "ipython",
    "version": 3
   },
   "file_extension": ".py",
   "mimetype": "text/x-python",
   "name": "python",
   "nbconvert_exporter": "python",
   "pygments_lexer": "ipython3",
   "version": "3.6.4"
  }
 },
 "nbformat": 4,
 "nbformat_minor": 2
}
